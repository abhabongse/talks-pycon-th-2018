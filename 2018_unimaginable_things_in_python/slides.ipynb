{
 "cells": [
  {
   "cell_type": "markdown",
   "metadata": {
    "slideshow": {
     "slide_type": "slide"
    }
   },
   "source": [
    "# Unimaginable Things in Python\n",
    "\n",
    "**Quirky things that might trip your Python experience if you are not careful**"
   ]
  },
  {
   "cell_type": "code",
   "execution_count": 1,
   "metadata": {
    "slideshow": {
     "slide_type": "-"
    }
   },
   "outputs": [],
   "source": [
    "from pprint import pprint"
   ]
  },
  {
   "cell_type": "markdown",
   "metadata": {
    "slideshow": {
     "slide_type": "slide"
    }
   },
   "source": [
    "## Purpose of this talk\n",
    "..."
   ]
  },
  {
   "cell_type": "markdown",
   "metadata": {
    "slideshow": {
     "slide_type": "slide"
    }
   },
   "source": [
    "## 01 Comprehension Syntax\n",
    "Example of **List Comprehension**:"
   ]
  },
  {
   "cell_type": "code",
   "execution_count": 2,
   "metadata": {
    "slideshow": {
     "slide_type": "-"
    }
   },
   "outputs": [
    {
     "name": "stdout",
     "output_type": "stream",
     "text": [
      "[25, 4, 16, 1, 64, 49, 9, 36]\n"
     ]
    }
   ],
   "source": [
    "values = [5, 2, 4, 1, 8, 7, 3, 6]\n",
    "squared_values = [ x**2 for x in values ]\n",
    "pprint(squared_values)"
   ]
  },
  {
   "cell_type": "markdown",
   "metadata": {
    "slideshow": {
     "slide_type": "fragment"
    }
   },
   "source": [
    "The above comprehension syntax can be desugared into:"
   ]
  },
  {
   "cell_type": "code",
   "execution_count": 3,
   "metadata": {
    "scrolled": true,
    "slideshow": {
     "slide_type": "-"
    }
   },
   "outputs": [
    {
     "name": "stdout",
     "output_type": "stream",
     "text": [
      "[25, 4, 16, 1, 64, 49, 9, 36]\n"
     ]
    }
   ],
   "source": [
    "squared_values_alt = list( x**2 for x in values )\n",
    "pprint(squared_values_alt)"
   ]
  },
  {
   "cell_type": "markdown",
   "metadata": {
    "slideshow": {
     "slide_type": "slide"
    }
   },
   "source": [
    "### Decomposing the comprehension syntax\n",
    "\n",
    "Breaking down this line of code:\n",
    "```python\n",
    "squared_values_alt = list( x**2 for x in values )\n",
    "x = 10\n",
    "```\n",
    "A step-by-step break-down:"
   ]
  },
  {
   "cell_type": "code",
   "execution_count": 4,
   "metadata": {
    "slideshow": {
     "slide_type": "-"
    }
   },
   "outputs": [
    {
     "name": "stdout",
     "output_type": "stream",
     "text": [
      "[25, 4, 16, 1, 64, 49, 9, 36]\n"
     ]
    }
   ],
   "source": [
    "expr_01 = ( x**2 for x in values )  # an iterable\n",
    "expr_02 = list(expr_01)  # list takes any iterable\n",
    "pprint(expr_02)"
   ]
  },
  {
   "cell_type": "markdown",
   "metadata": {
    "slideshow": {
     "slide_type": "slide"
    }
   },
   "source": [
    "### Do we always need a list?\n",
    "Sometimes, **comprehension-style generator expression** suffices."
   ]
  },
  {
   "cell_type": "code",
   "execution_count": 5,
   "metadata": {
    "slideshow": {
     "slide_type": "-"
    }
   },
   "outputs": [
    {
     "name": "stdout",
     "output_type": "stream",
     "text": [
      " 1: 25\n",
      " 2: 4\n",
      " 3: 16\n",
      " 4: 1\n",
      " 5: 64\n",
      " 6: 49\n",
      " 7: 9\n",
      " 8: 36\n"
     ]
    }
   ],
   "source": [
    "squared_values_iterable = ( x**2 for x in values )  # generator expression\n",
    "for i, v in enumerate(squared_values_iterable, start=1):\n",
    "    print(f'{i:2d}: {v}')  # f-string since python 3.6"
   ]
  },
  {
   "cell_type": "markdown",
   "metadata": {
    "slideshow": {
     "slide_type": "fragment"
    }
   },
   "source": [
    "- <span class=\"hl\">😀 **saves memory** — preventing unnecessary memory allocation for intermediate lists.</span>"
   ]
  },
  {
   "cell_type": "code",
   "execution_count": 6,
   "metadata": {
    "slideshow": {
     "slide_type": "slide"
    }
   },
   "outputs": [
    {
     "name": "stdout",
     "output_type": "stream",
     "text": [
      "[25, 1, 49, 9]\n",
      "[]\n"
     ]
    }
   ],
   "source": [
    "values = [5, 2, 4, 1, 8, 7, 3, 6]\n",
    "sq_values = ( x**2 for x in values )\n",
    "odd_sq_values = [ x for x in sq_values if x % 2 == 1 ]\n",
    "even_sq_values = [ x for x in sq_values if x % 2 == 0 ]\n",
    "\n",
    "pprint(odd_sq_values)\n",
    "pprint(even_sq_values)"
   ]
  },
  {
   "cell_type": "markdown",
   "metadata": {
    "slideshow": {
     "slide_type": "fragment"
    }
   },
   "source": [
    "- <span class=\"hl\">Iterable `sq_values` is already **consumed** after its first iteration.</span>"
   ]
  },
  {
   "cell_type": "markdown",
   "metadata": {
    "slideshow": {
     "slide_type": "slide"
    }
   },
   "source": [
    "### Quick Fix\n",
    "Make `sq_values` a list instead of a generator object."
   ]
  },
  {
   "cell_type": "code",
   "execution_count": 7,
   "metadata": {
    "slideshow": {
     "slide_type": "-"
    }
   },
   "outputs": [
    {
     "name": "stdout",
     "output_type": "stream",
     "text": [
      "[25, 1, 49, 9]\n",
      "[4, 16, 64, 36]\n"
     ]
    }
   ],
   "source": [
    "values = [5, 2, 4, 1, 8, 7, 3, 6]\n",
    "sq_values = [ x**2 for x in values ]\n",
    "odd_sq_values = [ x for x in sq_values if x % 2 == 1 ]\n",
    "even_sq_values = [ x for x in sq_values if x % 2 == 0 ]\n",
    "\n",
    "pprint(odd_sq_values)\n",
    "pprint(even_sq_values)"
   ]
  },
  {
   "cell_type": "markdown",
   "metadata": {
    "slideshow": {
     "slide_type": "slide"
    }
   },
   "source": [
    "## 02 Functions Are Data Too\n",
    "\n",
    "We will write a function `extractors_from_keys` with the following specification.\n",
    "- **input**: A list `keys` of dictionary keys.\n",
    "- **output**: A list of callables, each of which will receive a dictionary as input and will extract a value from the dictionary under the corresponding key in the list `keys`, preserving the ordering of the keys. If such a key does not exists, then `None` should be returned.\n",
    "\n",
    "For example,\n",
    "```python\n",
    "data = { 'puppy': 150, 'kitten': 200 }\n",
    "animal_extractors = extractors_from_keys(['puppy', 'otter', 'kitten'])\n",
    "\n",
    "for extractor in animal_extractors:\n",
    "    pprint(extractor(data))  # expected outputs: 150, None, 200\n",
    "```"
   ]
  },
  {
   "cell_type": "markdown",
   "metadata": {
    "slideshow": {
     "slide_type": "slide"
    }
   },
   "source": [
    "### Helping Function\n",
    "Use `dict.get` method on a dictionary object."
   ]
  },
  {
   "cell_type": "code",
   "execution_count": 8,
   "metadata": {
    "slideshow": {
     "slide_type": "-"
    }
   },
   "outputs": [
    {
     "name": "stdout",
     "output_type": "stream",
     "text": [
      "150\n",
      "None\n",
      "200\n"
     ]
    }
   ],
   "source": [
    "data = { 'puppy': 150, 'kitten': 200 }\n",
    "pprint(data.get('puppy'))\n",
    "pprint(data.get('otter'))\n",
    "pprint(data.get('kitten'))"
   ]
  },
  {
   "cell_type": "code",
   "execution_count": 9,
   "metadata": {
    "slideshow": {
     "slide_type": "slide"
    }
   },
   "outputs": [],
   "source": [
    "def extractors_from_keys(keys):\n",
    "    return [ (lambda data: data.get(k)) for k in keys ]"
   ]
  },
  {
   "cell_type": "code",
   "execution_count": 10,
   "metadata": {
    "slideshow": {
     "slide_type": "fragment"
    }
   },
   "outputs": [
    {
     "name": "stdout",
     "output_type": "stream",
     "text": [
      "200\n",
      "200\n",
      "200\n"
     ]
    }
   ],
   "source": [
    "data = { 'puppy': 150, 'kitten': 200 }\n",
    "animal_extractors = extractors_from_keys(['puppy', 'otter', 'kitten'])\n",
    "\n",
    "for extractor in animal_extractors:\n",
    "    pprint(extractor(data))"
   ]
  },
  {
   "cell_type": "markdown",
   "metadata": {
    "slideshow": {
     "slide_type": "fragment"
    }
   },
   "source": [
    "- <span class=\"hl\">Every lambda function shared the same `k`, last element in the list `keys`.</span>"
   ]
  },
  {
   "cell_type": "markdown",
   "metadata": {
    "slideshow": {
     "slide_type": "slide"
    }
   },
   "source": [
    "### How to fix"
   ]
  },
  {
   "cell_type": "markdown",
   "metadata": {
    "slideshow": {
     "slide_type": "fragment"
    }
   },
   "source": [
    "#### Method 1\n",
    "\n",
    "<span class=\"hl\">Make a copy of each key inside its own **closure** in constructed callables.</span>\n",
    "\n",
    "For example, make a placeholder for key `k` and supply its value with `functools.partial`."
   ]
  },
  {
   "cell_type": "code",
   "execution_count": 11,
   "metadata": {
    "slideshow": {
     "slide_type": "-"
    }
   },
   "outputs": [],
   "source": [
    "from functools import partial\n",
    "def extractors_from_keys(keys):\n",
    "    return [ partial((lambda k, data: data.get(k)), k) for k in keys ]"
   ]
  },
  {
   "cell_type": "code",
   "execution_count": 12,
   "metadata": {
    "slideshow": {
     "slide_type": "fragment"
    }
   },
   "outputs": [
    {
     "name": "stdout",
     "output_type": "stream",
     "text": [
      "150\n",
      "None\n",
      "200\n"
     ]
    }
   ],
   "source": [
    "data = { 'puppy': 150, 'kitten': 200 }\n",
    "animal_extractors = extractors_from_keys(['puppy', 'otter', 'kitten'])\n",
    "\n",
    "for extractor in animal_extractors:\n",
    "    pprint(extractor(data))"
   ]
  },
  {
   "cell_type": "markdown",
   "metadata": {
    "slideshow": {
     "slide_type": "slide"
    }
   },
   "source": [
    "#### Method 2\n",
    "\n",
    "<span class=\"hl\">Create a callable object (with ``__call__`` method) from a given key `k`.</span>"
   ]
  },
  {
   "cell_type": "code",
   "execution_count": 13,
   "metadata": {
    "slideshow": {
     "slide_type": "-"
    }
   },
   "outputs": [],
   "source": [
    "class Extractor(object):\n",
    "    def __init__(self, key):\n",
    "        self.key = key\n",
    "    def __call__(self, data):\n",
    "        return data.get(self.key)\n",
    "\n",
    "def extractors_from_keys(keys):\n",
    "    return [ Extractor(k) for k in keys ]"
   ]
  },
  {
   "cell_type": "code",
   "execution_count": 14,
   "metadata": {
    "slideshow": {
     "slide_type": "fragment"
    }
   },
   "outputs": [
    {
     "name": "stdout",
     "output_type": "stream",
     "text": [
      "150\n",
      "None\n",
      "200\n"
     ]
    }
   ],
   "source": [
    "data = { 'puppy': 150, 'kitten': 200 }\n",
    "animal_extractors = extractors_from_keys(['puppy', 'otter', 'kitten'])\n",
    "\n",
    "for extractor in animal_extractors:\n",
    "    pprint(extractor(data))"
   ]
  }
 ],
 "metadata": {
  "celltoolbar": "Slideshow",
  "kernelspec": {
   "display_name": "Python 3",
   "language": "python",
   "name": "python3"
  },
  "language_info": {
   "codemirror_mode": {
    "name": "ipython",
    "version": 3
   },
   "file_extension": ".py",
   "mimetype": "text/x-python",
   "name": "python",
   "nbconvert_exporter": "python",
   "pygments_lexer": "ipython3",
   "version": "3.6.5"
  },
  "rise": {
   "theme": "black"
  }
 },
 "nbformat": 4,
 "nbformat_minor": 2
}

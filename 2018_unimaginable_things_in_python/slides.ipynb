{
 "cells": [
  {
   "cell_type": "markdown",
   "metadata": {
    "slideshow": {
     "slide_type": "slide"
    }
   },
   "source": [
    "# Unimaginable Things in Python\n",
    "\n",
    "**Quirky things that might trip your Python experience if you are not careful**"
   ]
  },
  {
   "cell_type": "code",
   "execution_count": 1,
   "metadata": {
    "slideshow": {
     "slide_type": "-"
    }
   },
   "outputs": [],
   "source": [
    "from pprint import pprint"
   ]
  },
  {
   "cell_type": "markdown",
   "metadata": {
    "slideshow": {
     "slide_type": "slide"
    }
   },
   "source": [
    "## Comprehension Syntax\n",
    "Example of **List Comprehension**:"
   ]
  },
  {
   "cell_type": "code",
   "execution_count": 2,
   "metadata": {
    "slideshow": {
     "slide_type": "-"
    }
   },
   "outputs": [
    {
     "name": "stdout",
     "output_type": "stream",
     "text": [
      "[25, 4, 16, 1, 64, 49, 9, 36]\n"
     ]
    }
   ],
   "source": [
    "values = [5, 2, 4, 1, 8, 7, 3, 6]\n",
    "squared_values = [ x**2 for x in values ]\n",
    "pprint(squared_values)"
   ]
  },
  {
   "cell_type": "markdown",
   "metadata": {
    "slideshow": {
     "slide_type": "fragment"
    }
   },
   "source": [
    "The above comprehension syntax can be desugared into:"
   ]
  },
  {
   "cell_type": "code",
   "execution_count": 3,
   "metadata": {
    "scrolled": true,
    "slideshow": {
     "slide_type": "-"
    }
   },
   "outputs": [
    {
     "name": "stdout",
     "output_type": "stream",
     "text": [
      "[25, 4, 16, 1, 64, 49, 9, 36]\n"
     ]
    }
   ],
   "source": [
    "squared_values_alt = list( x**2 for x in values )\n",
    "pprint(squared_values_alt)"
   ]
  },
  {
   "cell_type": "markdown",
   "metadata": {
    "slideshow": {
     "slide_type": "subslide"
    }
   },
   "source": [
    "### Decomposing the comprehension syntax\n",
    "\n",
    "Breaking down this line of code:\n",
    "```python\n",
    "squared_values_alt = list( x**2 for x in values )\n",
    "x = 10\n",
    "```\n",
    "A step-by-step break-down:"
   ]
  },
  {
   "cell_type": "code",
   "execution_count": 4,
   "metadata": {
    "slideshow": {
     "slide_type": "-"
    }
   },
   "outputs": [
    {
     "name": "stdout",
     "output_type": "stream",
     "text": [
      "[25, 4, 16, 1, 64, 49, 9, 36]\n"
     ]
    }
   ],
   "source": [
    "expr_01 = ( x**2 for x in values )  # an iterable\n",
    "expr_02 = list(expr_01)  # list takes any iterable\n",
    "pprint(expr_02)"
   ]
  },
  {
   "cell_type": "markdown",
   "metadata": {
    "slideshow": {
     "slide_type": "slide"
    }
   },
   "source": [
    "### Do we always need a list?\n",
    "Sometimes, **comprehension-style generator expression** suffices."
   ]
  },
  {
   "cell_type": "code",
   "execution_count": 5,
   "metadata": {
    "slideshow": {
     "slide_type": "-"
    }
   },
   "outputs": [
    {
     "name": "stdout",
     "output_type": "stream",
     "text": [
      " 1: 25\n",
      " 2: 4\n",
      " 3: 16\n",
      " 4: 1\n",
      " 5: 64\n",
      " 6: 49\n",
      " 7: 9\n",
      " 8: 36\n"
     ]
    }
   ],
   "source": [
    "squared_values_iterable = ( x**2 for x in values )  # generator expression\n",
    "for i, v in enumerate(squared_values_iterable, start=1):\n",
    "    print(f'{i:2d}: {v}')  # f-string since python 3.6"
   ]
  },
  {
   "cell_type": "markdown",
   "metadata": {
    "slideshow": {
     "slide_type": "fragment"
    }
   },
   "source": [
    "- <span class=\"hl\">😀 **saves memory** — preventing unnecessary memory allocation for intermediate lists.</span>"
   ]
  },
  {
   "cell_type": "code",
   "execution_count": 6,
   "metadata": {
    "slideshow": {
     "slide_type": "slide"
    }
   },
   "outputs": [],
   "source": [
    "values = [5, 2, 4, 1, 8, 7, 3, 6]\n",
    "sq_values = ( x**2 for x in values )\n",
    "odd_sq_values = [ x for x in sq_values if x % 2 == 1 ]\n",
    "even_sq_values = [ x for x in sq_values if x % 2 == 0 ]"
   ]
  },
  {
   "cell_type": "code",
   "execution_count": 7,
   "metadata": {
    "slideshow": {
     "slide_type": "fragment"
    }
   },
   "outputs": [
    {
     "name": "stdout",
     "output_type": "stream",
     "text": [
      "[25, 1, 49, 9]\n",
      "[]\n"
     ]
    }
   ],
   "source": [
    "pprint(odd_sq_values)\n",
    "pprint(even_sq_values)"
   ]
  },
  {
   "cell_type": "markdown",
   "metadata": {
    "slideshow": {
     "slide_type": "fragment"
    }
   },
   "source": [
    "- <span class=\"hl\">Iterable `sq_values` is already **consumed** after its first iteration.</span>"
   ]
  }
 ],
 "metadata": {
  "celltoolbar": "Slideshow",
  "kernelspec": {
   "display_name": "Python 3",
   "language": "python",
   "name": "python3"
  },
  "language_info": {
   "codemirror_mode": {
    "name": "ipython",
    "version": 3
   },
   "file_extension": ".py",
   "mimetype": "text/x-python",
   "name": "python",
   "nbconvert_exporter": "python",
   "pygments_lexer": "ipython3",
   "version": "3.6.5"
  },
  "rise": {
   "theme": "black"
  }
 },
 "nbformat": 4,
 "nbformat_minor": 2
}

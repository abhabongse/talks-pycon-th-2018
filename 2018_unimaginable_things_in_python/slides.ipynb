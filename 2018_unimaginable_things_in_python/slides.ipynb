{
 "cells": [
  {
   "cell_type": "markdown",
   "metadata": {
    "slideshow": {
     "slide_type": "slide"
    }
   },
   "source": [
    "# Unimaginable Things in Python\n",
    "\n",
    "**Quirky things that might trip your Python experience if you are not careful**"
   ]
  },
  {
   "cell_type": "markdown",
   "metadata": {
    "slideshow": {
     "slide_type": "slide"
    }
   },
   "source": [
    "## Purpose of this talk\n",
    "..."
   ]
  },
  {
   "cell_type": "markdown",
   "metadata": {
    "slideshow": {
     "slide_type": "slide"
    }
   },
   "source": [
    "## 01 — Evaluation Order of Function Statements\n",
    "\n",
    "Many Python programmers were told <u>not</u> to do this:"
   ]
  },
  {
   "cell_type": "code",
   "execution_count": 1,
   "metadata": {
    "slideshow": {
     "slide_type": "-"
    }
   },
   "outputs": [],
   "source": [
    "def append_to_list(value, values_list=[]):\n",
    "    values_list.append(value)\n",
    "    return values_list"
   ]
  },
  {
   "cell_type": "code",
   "execution_count": 2,
   "metadata": {
    "slideshow": {
     "slide_type": "fragment"
    }
   },
   "outputs": [
    {
     "name": "stdout",
     "output_type": "stream",
     "text": [
      "[20, 40]\n",
      "[55]\n",
      "[30]\n",
      "[30, 75]\n"
     ]
    }
   ],
   "source": [
    "print(append_to_list(40, [20]))\n",
    "print(append_to_list(55, []))\n",
    "print(append_to_list(30))\n",
    "print(append_to_list(75))  # expected [75]"
   ]
  },
  {
   "cell_type": "markdown",
   "metadata": {
    "slideshow": {
     "slide_type": "slide"
    }
   },
   "source": [
    "### Two important things to note:"
   ]
  },
  {
   "cell_type": "markdown",
   "metadata": {
    "slideshow": {
     "slide_type": "fragment"
    }
   },
   "source": [
    "1. Every time a **“list literal”** is evaluated, <span class=\"hl\">a new list is <u>always</u> constructed</span>.\n",
    "    ```python\n",
    "    []; [2, 3, 5]; ['dog', 'cat']; ...  # list literals\n",
    "    ```"
   ]
  },
  {
   "cell_type": "markdown",
   "metadata": {
    "slideshow": {
     "slide_type": "fragment"
    }
   },
   "source": [
    "2. But <span class=\"hl\">all default argument expressions are evaluated <u>just once</u></span> when function definitions are interpreted (i.e. evaluated) during program execution.\n",
    "    ```python\n",
    "    # '1+2' is immediately evaluated when 'func' is interpreted\n",
    "    def func(x: int, y: int = 1+2):  \n",
    "        ...\n",
    "    ```\n",
    "    <u>Note:</u> The same goes for **“type annotations”** \n",
    "    <span class=\"cry\">(unless a particular `__future__` import from `python3.7` is used; PEP-563)</span>. <br/>\n",
    "    In contrast: a function body is <u>not</u> interpret until the it is called."
   ]
  },
  {
   "cell_type": "markdown",
   "metadata": {
    "slideshow": {
     "slide_type": "slide"
    }
   },
   "source": [
    "### How to fix this problem\n",
    "\n",
    "One way to do it:"
   ]
  },
  {
   "cell_type": "code",
   "execution_count": 3,
   "metadata": {
    "slideshow": {
     "slide_type": "-"
    }
   },
   "outputs": [
    {
     "name": "stdout",
     "output_type": "stream",
     "text": [
      "[30]\n",
      "[75]\n"
     ]
    }
   ],
   "source": [
    "def append_to_list(value, values_list=None):\n",
    "    values_list = values_list or []  # short-circuiting\n",
    "    values_list.append(value)\n",
    "    return values_list\n",
    "\n",
    "print(append_to_list(30))\n",
    "print(append_to_list(75))"
   ]
  },
  {
   "cell_type": "markdown",
   "metadata": {
    "slideshow": {
     "slide_type": "subslide"
    }
   },
   "source": [
    "#### What if `None` is a valid argument in some contexts?\n",
    "\n",
    "<span class=\"hl\">Make default argument a module-private value.</span>"
   ]
  },
  {
   "cell_type": "code",
   "execution_count": 4,
   "metadata": {
    "slideshow": {
     "slide_type": "-"
    }
   },
   "outputs": [
    {
     "name": "stdout",
     "output_type": "stream",
     "text": [
      "[30]\n",
      "[75]\n"
     ]
    }
   ],
   "source": [
    "class _MISSING:\n",
    "    pass\n",
    "\n",
    "def append_to_list(value, values_list=_MISSING):\n",
    "    if values_list is _MISSING:\n",
    "        values_list = []\n",
    "    values_list.append(value)\n",
    "    return values_list\n",
    "\n",
    "print(append_to_list(30))\n",
    "print(append_to_list(75))"
   ]
  },
  {
   "cell_type": "markdown",
   "metadata": {
    "slideshow": {
     "slide_type": "slide"
    }
   },
   "source": [
    "### Other similar problems\n",
    "\n",
    "Function with **“current time”** as a default argument."
   ]
  },
  {
   "cell_type": "code",
   "execution_count": 5,
   "metadata": {
    "slideshow": {
     "slide_type": "-"
    }
   },
   "outputs": [],
   "source": [
    "from datetime import datetime\n",
    "from time import sleep"
   ]
  },
  {
   "cell_type": "code",
   "execution_count": 6,
   "metadata": {
    "slideshow": {
     "slide_type": "-"
    }
   },
   "outputs": [
    {
     "name": "stdout",
     "output_type": "stream",
     "text": [
      "08:20:03.216946 - expected 2nd\n",
      "08:20:03.216946 - expected 3rd (most recent)\n",
      "08:20:03.216980 - expected 1st (earliest)\n"
     ]
    }
   ],
   "source": [
    "def print_time(message, tm=datetime.now()):\n",
    "    print(f\"{tm:%H:%M:%S.%f} - {message}\")\n",
    "\n",
    "current_time = datetime.now()\n",
    "sleep(1); print_time('expected 2nd')\n",
    "sleep(1); print_time('expected 3rd (most recent)')\n",
    "print_time('expected 1st (earliest)', current_time)"
   ]
  },
  {
   "cell_type": "markdown",
   "metadata": {
    "slideshow": {
     "slide_type": "slide"
    }
   },
   "source": [
    "#### Fixed version:"
   ]
  },
  {
   "cell_type": "code",
   "execution_count": 7,
   "metadata": {
    "slideshow": {
     "slide_type": "-"
    }
   },
   "outputs": [
    {
     "name": "stdout",
     "output_type": "stream",
     "text": [
      "08:20:06.231261 - expected 2nd\n",
      "08:20:07.232860 - expected 3rd (most recent)\n",
      "08:20:05.229940 - expected 1st (earliest)\n"
     ]
    }
   ],
   "source": [
    "def print_time(message, tm=None):\n",
    "    tm = tm or datetime.now()\n",
    "    print(f\"{tm:%H:%M:%S.%f} - {message}\")\n",
    "\n",
    "current_time = datetime.now()\n",
    "sleep(1); print_time('expected 2nd')\n",
    "sleep(1); print_time('expected 3rd (most recent)')\n",
    "print_time('expected 1st (earliest)', current_time)"
   ]
  },
  {
   "cell_type": "markdown",
   "metadata": {
    "slideshow": {
     "slide_type": "slide"
    }
   },
   "source": [
    "## # — Comprehension Syntax\n",
    "Example of **“list comprehension”**:"
   ]
  },
  {
   "cell_type": "code",
   "execution_count": 8,
   "metadata": {
    "slideshow": {
     "slide_type": "-"
    }
   },
   "outputs": [
    {
     "name": "stdout",
     "output_type": "stream",
     "text": [
      "[25, 4, 16, 1, 64, 49, 9, 36]\n"
     ]
    }
   ],
   "source": [
    "values = [5, 2, 4, 1, 8, 7, 3, 6]\n",
    "squared_values = [ x**2 for x in values ]\n",
    "print(squared_values)"
   ]
  },
  {
   "cell_type": "markdown",
   "metadata": {
    "slideshow": {
     "slide_type": "fragment"
    }
   },
   "source": [
    "The above comprehension syntax can be desugared into:"
   ]
  },
  {
   "cell_type": "code",
   "execution_count": 9,
   "metadata": {
    "scrolled": true,
    "slideshow": {
     "slide_type": "-"
    }
   },
   "outputs": [
    {
     "name": "stdout",
     "output_type": "stream",
     "text": [
      "[25, 4, 16, 1, 64, 49, 9, 36]\n"
     ]
    }
   ],
   "source": [
    "squared_values_alt = list( x**2 for x in values )\n",
    "print(squared_values_alt)"
   ]
  },
  {
   "cell_type": "markdown",
   "metadata": {
    "slideshow": {
     "slide_type": "slide"
    }
   },
   "source": [
    "### Decomposing the comprehension syntax\n",
    "\n",
    "Breaking down this line of code:\n",
    "```python\n",
    "squared_values_alt = list( x**2 for x in values )\n",
    "x = 10\n",
    "```\n",
    "A step-by-step break-down:"
   ]
  },
  {
   "cell_type": "code",
   "execution_count": 10,
   "metadata": {
    "slideshow": {
     "slide_type": "-"
    }
   },
   "outputs": [
    {
     "name": "stdout",
     "output_type": "stream",
     "text": [
      "[25, 4, 16, 1, 64, 49, 9, 36]\n"
     ]
    }
   ],
   "source": [
    "expr_01 = ( x**2 for x in values )  # an iterable\n",
    "expr_02 = list(expr_01)  # list takes any iterable\n",
    "print(expr_02)"
   ]
  },
  {
   "cell_type": "markdown",
   "metadata": {
    "slideshow": {
     "slide_type": "slide"
    }
   },
   "source": [
    "### Do we always need a list?\n",
    "Sometimes, **“comprehension-style generator expression”** suffices."
   ]
  },
  {
   "cell_type": "code",
   "execution_count": 11,
   "metadata": {
    "slideshow": {
     "slide_type": "-"
    }
   },
   "outputs": [
    {
     "name": "stdout",
     "output_type": "stream",
     "text": [
      " 1: 25\n",
      " 2: 4\n",
      " 3: 16\n",
      " 4: 1\n",
      " 5: 64\n",
      " 6: 49\n",
      " 7: 9\n",
      " 8: 36\n"
     ]
    }
   ],
   "source": [
    "squared_values_iterable = ( x**2 for x in values )  # generator expression\n",
    "for i, v in enumerate(squared_values_iterable, start=1):\n",
    "    print(f'{i:2d}: {v}')  # f-string since python 3.6"
   ]
  },
  {
   "cell_type": "markdown",
   "metadata": {
    "slideshow": {
     "slide_type": "fragment"
    }
   },
   "source": [
    "<span class=\"joy\">😀 **saves memory** — preventing unnecessary memory allocation for intermediate lists.</span>"
   ]
  },
  {
   "cell_type": "code",
   "execution_count": 12,
   "metadata": {
    "slideshow": {
     "slide_type": "slide"
    }
   },
   "outputs": [
    {
     "name": "stdout",
     "output_type": "stream",
     "text": [
      "[25, 1, 49, 9]\n",
      "[]\n"
     ]
    }
   ],
   "source": [
    "values = [5, 2, 4, 1, 8, 7, 3, 6]\n",
    "sq_values = ( x**2 for x in values )\n",
    "odd_sq_values = [ x for x in sq_values if x % 2 == 1 ]\n",
    "even_sq_values = [ x for x in sq_values if x % 2 == 0 ]\n",
    "\n",
    "print(odd_sq_values)\n",
    "print(even_sq_values)"
   ]
  },
  {
   "cell_type": "markdown",
   "metadata": {
    "slideshow": {
     "slide_type": "fragment"
    }
   },
   "source": [
    "<span class=\"cry\">😢 Iterable `sq_values` is already <u>consumed</u> after its first iteration.</span>"
   ]
  },
  {
   "cell_type": "markdown",
   "metadata": {
    "slideshow": {
     "slide_type": "slide"
    }
   },
   "source": [
    "### Quick Fix\n",
    "Make `sq_values` a list instead of a generator object."
   ]
  },
  {
   "cell_type": "code",
   "execution_count": 13,
   "metadata": {
    "slideshow": {
     "slide_type": "-"
    }
   },
   "outputs": [
    {
     "name": "stdout",
     "output_type": "stream",
     "text": [
      "[25, 1, 49, 9]\n",
      "[4, 16, 64, 36]\n"
     ]
    }
   ],
   "source": [
    "values = [5, 2, 4, 1, 8, 7, 3, 6]\n",
    "sq_values = [ x**2 for x in values ]\n",
    "odd_sq_values = [ x for x in sq_values if x % 2 == 1 ]\n",
    "even_sq_values = [ x for x in sq_values if x % 2 == 0 ]\n",
    "\n",
    "print(odd_sq_values)\n",
    "print(even_sq_values)"
   ]
  },
  {
   "cell_type": "markdown",
   "metadata": {
    "slideshow": {
     "slide_type": "slide"
    }
   },
   "source": [
    "## # — Functions Are Data Too\n",
    "\n",
    "**TODO:** Maybe regexp.compile is a more compelling use-case. \n",
    "\n",
    "We will write a function `extractors_from_keys` with the following specification.\n",
    "- <u>**input**</u>: A list `keys` of dictionary keys.\n",
    "- <u>**output**</u>: A list of dict-value extractors (callables). <br/>\n",
    "    Each extractor will receive a dict as input and then will extract a value from it \n",
    "    under a corresponding key in the list `keys`, <br/>\n",
    "    preserving the original order. If such a key does not exists, then `None` should be returned.\n",
    "\n",
    "For example,\n",
    "```python\n",
    "data = { 'puppy': 150, 'kitten': 200 }\n",
    "animal_extractors = extractors_from_keys(['puppy', 'otter', 'kitten'])\n",
    "\n",
    "for extractor in animal_extractors:\n",
    "    pprint(extractor(data))  # expected outputs: 150, None, 200\n",
    "```"
   ]
  },
  {
   "cell_type": "markdown",
   "metadata": {
    "slideshow": {
     "slide_type": "slide"
    }
   },
   "source": [
    "### Helping Function\n",
    "Use `dict.get` method on a dictionary object."
   ]
  },
  {
   "cell_type": "code",
   "execution_count": 14,
   "metadata": {
    "slideshow": {
     "slide_type": "-"
    }
   },
   "outputs": [
    {
     "name": "stdout",
     "output_type": "stream",
     "text": [
      "150\n",
      "None\n",
      "200\n"
     ]
    }
   ],
   "source": [
    "data = { 'puppy': 150, 'kitten': 200 }\n",
    "print(data.get('puppy'))\n",
    "print(data.get('otter'))\n",
    "print(data.get('kitten'))"
   ]
  },
  {
   "cell_type": "code",
   "execution_count": 15,
   "metadata": {
    "slideshow": {
     "slide_type": "slide"
    }
   },
   "outputs": [],
   "source": [
    "def extractors_from_keys(keys):\n",
    "    return [ (lambda data: data.get(k)) for k in keys ]"
   ]
  },
  {
   "cell_type": "code",
   "execution_count": 16,
   "metadata": {
    "slideshow": {
     "slide_type": "fragment"
    }
   },
   "outputs": [
    {
     "name": "stdout",
     "output_type": "stream",
     "text": [
      "200\n",
      "200\n",
      "200\n"
     ]
    }
   ],
   "source": [
    "data = { 'puppy': 150, 'kitten': 200 }\n",
    "animal_extractors = extractors_from_keys(['puppy', 'otter', 'kitten'])\n",
    "\n",
    "for extractor in animal_extractors:\n",
    "    print(extractor(data))"
   ]
  },
  {
   "cell_type": "markdown",
   "metadata": {
    "slideshow": {
     "slide_type": "fragment"
    }
   },
   "source": [
    "<span class=\"hl\">Every lambda function shared the same `k`, last element in the list `keys`</span> where\n",
    "```python\n",
    "keys = ['puppy', 'otter', 'kitten']\n",
    "########################## -- k --\n",
    "```"
   ]
  },
  {
   "cell_type": "markdown",
   "metadata": {
    "slideshow": {
     "slide_type": "slide"
    }
   },
   "source": [
    "### How to fix\n",
    "\n",
    "#### Method 1\n",
    "\n",
    "<span class=\"hl\">Make a copy of each key inside its own **“closure”** in constructed callables.</span>\n",
    "\n",
    "For example, make a placeholder for key `k` and supply its value with `functools.partial`."
   ]
  },
  {
   "cell_type": "code",
   "execution_count": 17,
   "metadata": {
    "slideshow": {
     "slide_type": "-"
    }
   },
   "outputs": [],
   "source": [
    "from functools import partial\n",
    "def extractors_from_keys(keys):\n",
    "    return [ partial((lambda k, data: data.get(k)), k) for k in keys ]"
   ]
  },
  {
   "cell_type": "code",
   "execution_count": 18,
   "metadata": {
    "slideshow": {
     "slide_type": "fragment"
    }
   },
   "outputs": [
    {
     "name": "stdout",
     "output_type": "stream",
     "text": [
      "150\n",
      "None\n",
      "200\n"
     ]
    }
   ],
   "source": [
    "data = { 'puppy': 150, 'kitten': 200 }\n",
    "animal_extractors = extractors_from_keys(['puppy', 'otter', 'kitten'])\n",
    "\n",
    "for extractor in animal_extractors:\n",
    "    print(extractor(data))"
   ]
  },
  {
   "cell_type": "markdown",
   "metadata": {
    "slideshow": {
     "slide_type": "slide"
    }
   },
   "source": [
    "#### Method 2\n",
    "\n",
    "<span class=\"hl\">Create a callable object (with ``__call__`` method) from a given key `k`.</span>"
   ]
  },
  {
   "cell_type": "code",
   "execution_count": 19,
   "metadata": {
    "slideshow": {
     "slide_type": "-"
    }
   },
   "outputs": [],
   "source": [
    "class Extractor(object):\n",
    "    def __init__(self, key):\n",
    "        self.key = key\n",
    "    def __call__(self, data):\n",
    "        return data.get(self.key)\n",
    "\n",
    "def extractors_from_keys(keys):\n",
    "    return [ Extractor(k) for k in keys ]"
   ]
  },
  {
   "cell_type": "code",
   "execution_count": 20,
   "metadata": {
    "slideshow": {
     "slide_type": "fragment"
    }
   },
   "outputs": [
    {
     "name": "stdout",
     "output_type": "stream",
     "text": [
      "150\n",
      "None\n",
      "200\n"
     ]
    }
   ],
   "source": [
    "data = { 'puppy': 150, 'kitten': 200 }\n",
    "animal_extractors = extractors_from_keys(['puppy', 'otter', 'kitten'])\n",
    "\n",
    "for extractor in animal_extractors:\n",
    "    print(extractor(data))"
   ]
  },
  {
   "cell_type": "markdown",
   "metadata": {
    "slideshow": {
     "slide_type": "slide"
    }
   },
   "source": [
    "## # — Opening Files and Iterators\n",
    "\n",
    "Suppose that we wrote a function to <u>count the number of words</u> for each string in a sequence. "
   ]
  },
  {
   "cell_type": "code",
   "execution_count": 21,
   "metadata": {
    "slideshow": {
     "slide_type": "-"
    }
   },
   "outputs": [],
   "source": [
    "import re\n",
    "word_re = re.compile(r'\\w+')\n",
    "\n",
    "def count_words(sentence):\n",
    "    \"\"\"Counts number of words in a given sentence.\"\"\"\n",
    "    return len(word_re.findall(sentence))\n",
    "\n",
    "def wordcounts_from_sentences(sentences):\n",
    "    \"\"\"\n",
    "    Returns a generator object which yields the word\n",
    "    count for each sentence in the input.\n",
    "    \"\"\"\n",
    "    for sentence in sentences:\n",
    "        yield count_words(sentence)"
   ]
  },
  {
   "cell_type": "markdown",
   "metadata": {
    "slideshow": {
     "slide_type": "-"
    }
   },
   "source": [
    "This code should work for any iterable of strings. **¯\\\\\\_(ツ)\\_/¯**"
   ]
  },
  {
   "cell_type": "markdown",
   "metadata": {
    "slideshow": {
     "slide_type": "slide"
    }
   },
   "source": [
    "### Let's try with a list of strings"
   ]
  },
  {
   "cell_type": "code",
   "execution_count": 22,
   "metadata": {
    "slideshow": {
     "slide_type": "-"
    }
   },
   "outputs": [
    {
     "name": "stdout",
     "output_type": "stream",
     "text": [
      "4\n",
      "7\n",
      "0\n",
      "1\n",
      "6\n"
     ]
    }
   ],
   "source": [
    "sentences = [\n",
    "    \"Hello, how are you?\",\n",
    "    \"I'm fine thank you. And you?\",\n",
    "    \"...\",\n",
    "    \"Ellipsis?\",\n",
    "    \"Yes! It's a valid expression\",\n",
    "]\n",
    "\n",
    "for wc in wordcounts_from_sentences(sentences):\n",
    "    print(wc)"
   ]
  },
  {
   "cell_type": "markdown",
   "metadata": {
    "slideshow": {
     "slide_type": "slide"
    }
   },
   "source": [
    "### What about a file???\n",
    "\n",
    "<span class=\"hl\">Technically, a file object is an iterable of lines in the file.</span>"
   ]
  },
  {
   "cell_type": "code",
   "execution_count": 23,
   "metadata": {
    "slideshow": {
     "slide_type": "-"
    }
   },
   "outputs": [],
   "source": [
    "def wordcounts_from_file(filename):\n",
    "    \"\"\"\n",
    "    Returns a generator object which yields the word\n",
    "    count for each line in the file.\n",
    "    \"\"\"\n",
    "    # Good practice to open files with with-stmt!\n",
    "    with open(filename) as fileobj:\n",
    "        return wordcounts_from_sentences(fileobj)"
   ]
  },
  {
   "cell_type": "markdown",
   "metadata": {
    "slideshow": {
     "slide_type": "-"
    }
   },
   "source": [
    "This function should work with text files too! **¯\\\\\\_(ツ)\\_/¯**"
   ]
  },
  {
   "cell_type": "code",
   "execution_count": 24,
   "metadata": {
    "slideshow": {
     "slide_type": "slide"
    }
   },
   "outputs": [
    {
     "ename": "ValueError",
     "evalue": "I/O operation on closed file.",
     "output_type": "error",
     "traceback": [
      "\u001b[0;31m---------------------------------------------------------------------------\u001b[0m",
      "\u001b[0;31mValueError\u001b[0m                                Traceback (most recent call last)",
      "\u001b[0;32m<ipython-input-24-e667ef6827fb>\u001b[0m in \u001b[0;36m<module>\u001b[0;34m()\u001b[0m\n\u001b[0;32m----> 1\u001b[0;31m \u001b[0;32mfor\u001b[0m \u001b[0mwc\u001b[0m \u001b[0;32min\u001b[0m \u001b[0mwordcounts_from_file\u001b[0m\u001b[0;34m(\u001b[0m\u001b[0;34m'input.txt'\u001b[0m\u001b[0;34m)\u001b[0m\u001b[0;34m:\u001b[0m\u001b[0;34m\u001b[0m\u001b[0m\n\u001b[0m\u001b[1;32m      2\u001b[0m     \u001b[0mprint\u001b[0m\u001b[0;34m(\u001b[0m\u001b[0mwc\u001b[0m\u001b[0;34m)\u001b[0m\u001b[0;34m\u001b[0m\u001b[0m\n",
      "\u001b[0;32m<ipython-input-21-c551ba275123>\u001b[0m in \u001b[0;36mwordcounts_from_sentences\u001b[0;34m(sentences)\u001b[0m\n\u001b[1;32m     11\u001b[0m     \u001b[0mcount\u001b[0m \u001b[0;32mfor\u001b[0m \u001b[0meach\u001b[0m \u001b[0msentence\u001b[0m \u001b[0;32min\u001b[0m \u001b[0mthe\u001b[0m \u001b[0minput\u001b[0m\u001b[0;34m.\u001b[0m\u001b[0;34m\u001b[0m\u001b[0m\n\u001b[1;32m     12\u001b[0m     \"\"\"\n\u001b[0;32m---> 13\u001b[0;31m     \u001b[0;32mfor\u001b[0m \u001b[0msentence\u001b[0m \u001b[0;32min\u001b[0m \u001b[0msentences\u001b[0m\u001b[0;34m:\u001b[0m\u001b[0;34m\u001b[0m\u001b[0m\n\u001b[0m\u001b[1;32m     14\u001b[0m         \u001b[0;32myield\u001b[0m \u001b[0mcount_words\u001b[0m\u001b[0;34m(\u001b[0m\u001b[0msentence\u001b[0m\u001b[0;34m)\u001b[0m\u001b[0;34m\u001b[0m\u001b[0m\n",
      "\u001b[0;31mValueError\u001b[0m: I/O operation on closed file."
     ]
    }
   ],
   "source": [
    "for wc in wordcounts_from_file('input.txt'):\n",
    "    print(wc)"
   ]
  },
  {
   "cell_type": "markdown",
   "metadata": {
    "slideshow": {
     "slide_type": "fragment"
    }
   },
   "source": [
    "<span class=\"cry\">😢 File object was forced closed <u>before</u> the first line was even read.</span>"
   ]
  },
  {
   "cell_type": "markdown",
   "metadata": {
    "slideshow": {
     "slide_type": "slide"
    }
   },
   "source": [
    "### Easiest way to fix\n",
    "Since `wordcounts_from_sentences` is a generator function, we do the same for `wordcounts_from_file`."
   ]
  },
  {
   "cell_type": "code",
   "execution_count": 25,
   "metadata": {
    "slideshow": {
     "slide_type": "-"
    }
   },
   "outputs": [],
   "source": [
    "def wordcounts_from_file(filename):\n",
    "    \"\"\"\n",
    "    Returns a generator object which yields the word\n",
    "    count for each line in the file.\n",
    "    \"\"\"\n",
    "    # Good practice to open files with with-stmt!\n",
    "    with open(filename) as fileobj:\n",
    "        #return wordcounts_from_sentences(fileobj)\n",
    "        yield from wordcounts_from_sentences(fileobj)"
   ]
  },
  {
   "cell_type": "code",
   "execution_count": 26,
   "metadata": {
    "slideshow": {
     "slide_type": "fragment"
    }
   },
   "outputs": [
    {
     "name": "stdout",
     "output_type": "stream",
     "text": [
      "4\n",
      "7\n",
      "0\n",
      "1\n",
      "6\n"
     ]
    }
   ],
   "source": [
    "for wc in wordcounts_from_file('input.txt'):\n",
    "    print(wc)"
   ]
  }
 ],
 "metadata": {
  "celltoolbar": "Slideshow",
  "kernelspec": {
   "display_name": "Python 3",
   "language": "python",
   "name": "python3"
  },
  "language_info": {
   "codemirror_mode": {
    "name": "ipython",
    "version": 3
   },
   "file_extension": ".py",
   "mimetype": "text/x-python",
   "name": "python",
   "nbconvert_exporter": "python",
   "pygments_lexer": "ipython3",
   "version": "3.6.5"
  },
  "rise": {
   "scroll": true,
   "theme": "black"
  }
 },
 "nbformat": 4,
 "nbformat_minor": 2
}

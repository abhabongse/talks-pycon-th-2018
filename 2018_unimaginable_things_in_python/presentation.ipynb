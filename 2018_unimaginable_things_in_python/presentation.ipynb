{
 "cells": [
  {
   "cell_type": "markdown",
   "metadata": {
    "slideshow": {
     "slide_type": "slide"
    }
   },
   "source": [
    "# Unimaginable Things in Python\n",
    "\n",
    "Quirky things that might trip your Python experience if you are not careful"
   ]
  },
  {
   "cell_type": "markdown",
   "metadata": {
    "slideshow": {
     "slide_type": "fragment"
    }
   },
   "source": [
    "<span class=\"hl\"> \n",
    "Abhabongse Janthong **· Plane** <br/>\n",
    "Watcharapol Watcharawisetkul **· Group**\n",
    "</span>"
   ]
  },
  {
   "cell_type": "markdown",
   "metadata": {
    "slideshow": {
     "slide_type": "fragment"
    }
   },
   "source": [
    "<small>Kasikorn Business Technology Group (KBTG)</small>"
   ]
  },
  {
   "cell_type": "markdown",
   "metadata": {
    "slideshow": {
     "slide_type": "slide"
    }
   },
   "source": [
    "# Filter dict"
   ]
  },
  {
   "cell_type": "markdown",
   "metadata": {
    "slideshow": {
     "slide_type": "slide"
    }
   },
   "source": [
    "## Situation\n",
    "We play a funny game and everyone have their score store in dictionary\n",
    "```python\n",
    "player_score = {\n",
    "    'abhabongse': 12,\n",
    "    'groupw66': 39,\n",
    "    'newbie': 16,\n",
    "    'zetto': 26,\n",
    "}\n",
    "```\n",
    "After 5 rounds, we want to **remove** loser who have score less than 17 from the game."
   ]
  },
  {
   "cell_type": "code",
   "execution_count": 1,
   "metadata": {
    "slideshow": {
     "slide_type": "slide"
    }
   },
   "outputs": [
    {
     "name": "stdout",
     "output_type": "stream",
     "text": [
      "Remove abhabongse form the competition\n"
     ]
    },
    {
     "ename": "RuntimeError",
     "evalue": "dictionary changed size during iteration",
     "output_type": "error",
     "traceback": [
      "\u001b[0;31m---------------------------------------------------------------------------\u001b[0m",
      "\u001b[0;31mRuntimeError\u001b[0m                              Traceback (most recent call last)",
      "\u001b[0;32m<ipython-input-1-8637af1caec9>\u001b[0m in \u001b[0;36m<module>\u001b[0;34m()\u001b[0m\n\u001b[1;32m      6\u001b[0m }\n\u001b[1;32m      7\u001b[0m \u001b[0;34m\u001b[0m\u001b[0m\n\u001b[0;32m----> 8\u001b[0;31m \u001b[0;32mfor\u001b[0m \u001b[0musername\u001b[0m\u001b[0;34m,\u001b[0m \u001b[0mscore\u001b[0m \u001b[0;32min\u001b[0m \u001b[0mplayer_score\u001b[0m\u001b[0;34m.\u001b[0m\u001b[0mitems\u001b[0m\u001b[0;34m(\u001b[0m\u001b[0;34m)\u001b[0m\u001b[0;34m:\u001b[0m\u001b[0;34m\u001b[0m\u001b[0m\n\u001b[0m\u001b[1;32m      9\u001b[0m     \u001b[0;32mif\u001b[0m \u001b[0mscore\u001b[0m \u001b[0;34m<\u001b[0m \u001b[0;36m17\u001b[0m\u001b[0;34m:\u001b[0m\u001b[0;34m\u001b[0m\u001b[0m\n\u001b[1;32m     10\u001b[0m         \u001b[0mprint\u001b[0m\u001b[0;34m(\u001b[0m\u001b[0;34mf'Remove {username} form the competition'\u001b[0m\u001b[0;34m)\u001b[0m\u001b[0;34m\u001b[0m\u001b[0m\n",
      "\u001b[0;31mRuntimeError\u001b[0m: dictionary changed size during iteration"
     ]
    }
   ],
   "source": [
    "player_score = {\n",
    "    'abhabongse': 12,\n",
    "    'groupw66': 39,\n",
    "    'newbie': 13,\n",
    "    'zetto': 26,\n",
    "}\n",
    "\n",
    "for username, score in player_score.items():\n",
    "    if score < 17:\n",
    "        print(f'Remove {username} form the competition')\n",
    "        del player_score[username]\n",
    "\n",
    "print(player_score)"
   ]
  },
  {
   "cell_type": "code",
   "execution_count": 2,
   "metadata": {
    "slideshow": {
     "slide_type": "fragment"
    }
   },
   "outputs": [
    {
     "name": "stdout",
     "output_type": "stream",
     "text": [
      "{'groupw66': 39, 'newbie': 13, 'zetto': 26}\n"
     ]
    }
   ],
   "source": [
    "print(player_score)"
   ]
  },
  {
   "cell_type": "markdown",
   "metadata": {
    "slideshow": {
     "slide_type": "slide"
    }
   },
   "source": [
    "## Solution"
   ]
  },
  {
   "cell_type": "code",
   "execution_count": 3,
   "metadata": {
    "slideshow": {
     "slide_type": "-"
    }
   },
   "outputs": [
    {
     "name": "stdout",
     "output_type": "stream",
     "text": [
      "{'groupw66': 39, 'zetto': 26}\n"
     ]
    }
   ],
   "source": [
    "player_score = {\n",
    "    'abhabongse': 12,\n",
    "    'groupw66': 39,\n",
    "    'newbie': 13,\n",
    "    'zetto': 26,\n",
    "}\n",
    "\n",
    "for username, score in list(player_score.items()):\n",
    "    if score < 17:\n",
    "        del player_score[username]\n",
    "        \n",
    "print(player_score)"
   ]
  },
  {
   "cell_type": "markdown",
   "metadata": {
    "slideshow": {
     "slide_type": "slide"
    }
   },
   "source": [
    "## Better solution\n",
    "Use dict comprehension"
   ]
  },
  {
   "cell_type": "code",
   "execution_count": 4,
   "metadata": {
    "slideshow": {
     "slide_type": "-"
    }
   },
   "outputs": [
    {
     "name": "stdout",
     "output_type": "stream",
     "text": [
      "{'groupw66': 39, 'zetto': 26}\n"
     ]
    }
   ],
   "source": [
    "player_score = {\n",
    "    'abhabongse': 12,\n",
    "    'groupw66': 39,\n",
    "    'newbie': 13,\n",
    "    'zetto': 26,\n",
    "}\n",
    "\n",
    "player_score = {username: score for username, score in player_score.items() if score >= 17}\n",
    "        \n",
    "print(player_score)"
   ]
  },
  {
   "cell_type": "markdown",
   "metadata": {
    "slideshow": {
     "slide_type": "fragment"
    }
   },
   "source": [
    "This is more **pythonic**"
   ]
  }
 ],
 "metadata": {
  "celltoolbar": "Slideshow",
  "kernelspec": {
   "display_name": "Python 3",
   "language": "python",
   "name": "python3"
  },
  "language_info": {
   "codemirror_mode": {
    "name": "ipython",
    "version": 3
   },
   "file_extension": ".py",
   "mimetype": "text/x-python",
   "name": "python",
   "nbconvert_exporter": "python",
   "pygments_lexer": "ipython3",
   "version": "3.6.3"
  }
 },
 "nbformat": 4,
 "nbformat_minor": 2
}

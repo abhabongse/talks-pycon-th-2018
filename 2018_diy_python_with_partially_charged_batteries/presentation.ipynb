{
 "cells": [
  {
   "cell_type": "markdown",
   "metadata": {
    "slideshow": {
     "slide_type": "slide"
    }
   },
   "source": [
    "# Do It Yourself: Python With Partially Charged Batteries\n",
    "\n",
    "<span class=\"hl\">\n",
    "Abhabongse Janthong **· Plane** <br/>\n",
    "Watcharapol Watcharawisetkul **· Group**\n",
    "</span>\n",
    "\n",
    "<small>Kasikorn Business Technology Group</small>"
   ]
  },
  {
   "cell_type": "markdown",
   "metadata": {
    "slideshow": {
     "slide_type": "slide"
    }
   },
   "source": [
    "<h1 class=\"center\">“Batteries Included”</h1>"
   ]
  },
  {
   "cell_type": "markdown",
   "metadata": {
    "slideshow": {
     "slide_type": "notes"
    }
   },
   "source": [
    "For the next few slides, we explain the slogan “Batteries Included” in Python\n",
    "\n",
    "- A video on toys without batteries included (put slogan into context)\n",
    "- Later in history, new phones bought from stores will be partially charged.\n",
    "- Make a joke on spam ads: some believed download a special app will increase battery."
   ]
  },
  {
   "cell_type": "code",
   "execution_count": 1,
   "metadata": {
    "slideshow": {
     "slide_type": "-"
    }
   },
   "outputs": [
    {
     "data": {
      "text/html": [
       "\n",
       "            <iframe width=\"960\" height=\"540\"\n",
       "                src=\"https://www.youtube.com/embed/foWwW1_CFw4?autoplay=1&amp;rel=0\"\n",
       "                frameborder=\"0\" allow=\"autoplay; encrypted-media\" allowfullscreen>\n",
       "            </iframe>\n",
       "        "
      ],
      "text/plain": [
       "<talk_resources.YouTubeVideo at 0x7fe0bc69d518>"
      ]
     },
     "metadata": {},
     "output_type": "display_data"
    }
   ],
   "source": [
    "from talk_resources import YouTubeVideo\n",
    "display(YouTubeVideo('foWwW1_CFw4', autoplay=True))"
   ]
  },
  {
   "cell_type": "markdown",
   "metadata": {
    "slideshow": {
     "slide_type": "slide"
    }
   },
   "source": [
    "<h1 class=\"center\">Charging Batteries</h1>\n",
    "\n",
    "&nbsp;\n",
    "\n",
    "<div class=\"center smcp text-120\">\n",
    "from &nbsp; <i class=\"fa-battery-1 fa-lg fa\" style=\"color: #D66;\"></i> &nbsp; \n",
    "to &nbsp; <i class=\"fa-battery-4 fa-lg fa\" style=\"color: #6D6;\"></i>\n",
    "</div>"
   ]
  },
  {
   "cell_type": "markdown",
   "metadata": {
    "slideshow": {
     "slide_type": "slide"
    }
   },
   "source": [
    "# 1. Built-in `range` function"
   ]
  },
  {
   "cell_type": "code",
   "execution_count": 2,
   "metadata": {
    "slideshow": {
     "slide_type": "-"
    }
   },
   "outputs": [
    {
     "name": "stdout",
     "output_type": "stream",
     "text": [
      "[0, 1, 2, 3, 4, 5, 6, 7, 8, 9]\n",
      "[2, 5, 8]\n",
      "[5, 3, 1]\n",
      "[]\n"
     ]
    }
   ],
   "source": [
    "                                                             print(list(range(10)))\n",
    "print(list(range(2, 10, 3)))\n",
    "print(list(range(5, 0, -2)))\n",
    "print(list(range(4, 1)))"
   ]
  },
  {
   "cell_type": "markdown",
   "metadata": {
    "slideshow": {
     "slide_type": "slide"
    }
   },
   "source": [
    "## Our implementation of `range`"
   ]
  },
  {
   "cell_type": "code",
   "execution_count": 3,
   "metadata": {
    "slideshow": {
     "slide_type": "-"
    }
   },
   "outputs": [],
   "source": [
    "def my_range(start, stop=None, step=1):\n",
    "    \"\"\"Implements built-in ``range()`` function.\"\"\"\n",
    "    \n",
    "    if not isinstance(step, int):\n",
    "        raise TypeError('step must be integer')\n",
    "    if step == 0:\n",
    "        raise ValueError('step cannot be zero')\n",
    "    \n",
    "    if stop is None:  # built-in syntax special case\n",
    "        stop = start; start = 0    \n",
    "    curr = start\n",
    "    \n",
    "    while (curr < stop) if (step > 0) else (curr > stop):\n",
    "        yield curr\n",
    "        curr += step\n"
   ]
  },
  {
   "cell_type": "code",
   "execution_count": 4,
   "metadata": {
    "slideshow": {
     "slide_type": "slide"
    }
   },
   "outputs": [
    {
     "name": "stdout",
     "output_type": "stream",
     "text": [
      "[0, 1, 2, 3, 4, 5, 6, 7, 8, 9]\n",
      "[2, 5, 8]\n",
      "[5, 3, 1]\n",
      "[]\n"
     ]
    }
   ],
   "source": [
    "print(list(my_range(10)))\n",
    "print(list(my_range(2, 10, 3)))\n",
    "print(list(my_range(5, 0, -2)))\n",
    "print(list(my_range(4, 1)))"
   ]
  },
  {
   "cell_type": "markdown",
   "metadata": {
    "slideshow": {
     "slide_type": "slide"
    }
   },
   "source": [
    "# 2. Filter-Map-Reduce\n",
    "\n",
    "**Higher-order functions on sequences**"
   ]
  },
  {
   "cell_type": "code",
   "execution_count": 5,
   "metadata": {
    "slideshow": {
     "slide_type": "-"
    }
   },
   "outputs": [
    {
     "name": "stdout",
     "output_type": "stream",
     "text": [
      "[17, 13, 11]\n",
      "[34, 8, 18, 26, 12, 22]\n",
      "525096\n"
     ]
    }
   ],
   "source": [
    "from functools import reduce\n",
    "from operator import mul\n",
    "\n",
    "values = [17, 4, 9, 13, 6, 11]\n",
    "\n",
    "# filter: List of values greater than 10\n",
    "print(list(filter(lambda x: x > 10, values)))\n",
    "\n",
    "# map: Double each value in the list\n",
    "print(list(map(lambda x: x * 2, values)))\n",
    "\n",
    "# reduce: Find product of all values\n",
    "print(reduce(mul, values))"
   ]
  },
  {
   "cell_type": "markdown",
   "metadata": {
    "slideshow": {
     "slide_type": "slide"
    }
   },
   "source": [
    "## Our implementation of `filter`"
   ]
  },
  {
   "cell_type": "code",
   "execution_count": null,
   "metadata": {
    "slideshow": {
     "slide_type": "-"
    }
   },
   "outputs": [],
   "source": []
  },
  {
   "cell_type": "markdown",
   "metadata": {
    "slideshow": {
     "slide_type": "slide"
    }
   },
   "source": [
    "## Our implementation of `map`"
   ]
  },
  {
   "cell_type": "code",
   "execution_count": null,
   "metadata": {
    "slideshow": {
     "slide_type": "-"
    }
   },
   "outputs": [],
   "source": []
  },
  {
   "cell_type": "markdown",
   "metadata": {
    "slideshow": {
     "slide_type": "slide"
    }
   },
   "source": [
    "## Our implementation of `reduce`"
   ]
  },
  {
   "cell_type": "code",
   "execution_count": null,
   "metadata": {
    "slideshow": {
     "slide_type": "-"
    }
   },
   "outputs": [],
   "source": []
  },
  {
   "cell_type": "markdown",
   "metadata": {
    "slideshow": {
     "slide_type": "slide"
    }
   },
   "source": [
    "# 3. Built-in `property` decorator function\n",
    "\n",
    "Making getter/setter methods inside class definition\n",
    "as if it is an instance property."
   ]
  },
  {
   "cell_type": "code",
   "execution_count": 6,
   "metadata": {
    "slideshow": {
     "slide_type": "-"
    }
   },
   "outputs": [],
   "source": [
    "class AspectRatioRectangle(object):\n",
    "    \"\"\"\n",
    "    Rectangle object maintaining the original\n",
    "    aspect ratio when resizing width or height.\n",
    "    \"\"\"\n",
    "    \n",
    "    def __init__(self, width, height):\n",
    "        self.original_width = width\n",
    "        self.original_height = height\n",
    "        self.scale = 1\n",
    "        \n",
    "    @property\n",
    "    def width(self):\n",
    "        return self.original_width * self.scale\n",
    "    \n",
    "    @width.setter\n",
    "    def width(self, new_width):\n",
    "        self.scale = new_width / self.original_width\n",
    "    \n",
    "    @property\n",
    "    def height(self):\n",
    "        return self.original_height * self.scale\n",
    "    \n",
    "    @height.setter\n",
    "    def height(self, new_height):\n",
    "        self.scale = new_height / self.original_height\n",
    "        \n",
    "    def __repr__(self):\n",
    "        return f\"{type(self).__name__}({self.width}, {self.height})\""
   ]
  },
  {
   "cell_type": "code",
   "execution_count": 7,
   "metadata": {
    "slideshow": {
     "slide_type": "slide"
    }
   },
   "outputs": [
    {
     "name": "stdout",
     "output_type": "stream",
     "text": [
      "AspectRatioRectangle(3, 4)\n",
      "AspectRatioRectangle(7.5, 10.0)\n",
      "AspectRatioRectangle(6.0, 8.0)\n"
     ]
    }
   ],
   "source": [
    "rect = AspectRatioRectangle(3, 4)\n",
    "print(rect)\n",
    "rect.height = 10\n",
    "print(rect)\n",
    "rect.width = 6\n",
    "print(rect)"
   ]
  },
  {
   "cell_type": "code",
   "execution_count": 8,
   "metadata": {
    "slideshow": {
     "slide_type": "slide"
    }
   },
   "outputs": [],
   "source": [
    "class my_property(object):\n",
    "    \"\"\"\n",
    "    Implements built-in ``property`` decorator function.\n",
    "    Adapted from https://docs.python.org/3.6/howto/descriptor.html\n",
    "    \"\"\"\n",
    "    def __init__(self, getter_fn):\n",
    "        self.getter_fn = getter_fn\n",
    "        self.setter_fn = None\n",
    "        \n",
    "    def __get__(self, instance, cls=None):\n",
    "        if instance is None:\n",
    "            return self          \n",
    "        return self.getter_fn(instance)\n",
    "\n",
    "    def __set__(self, instance, value):\n",
    "        if self.setter_fn is None:\n",
    "            raise AttributeError(\"cannot modify attribute\")\n",
    "        self.setter_fn(instance, value)\n",
    "\n",
    "    def setter(self, setter_fn):\n",
    "        self.setter_fn = setter_fn\n",
    "        return self"
   ]
  },
  {
   "cell_type": "code",
   "execution_count": 9,
   "metadata": {
    "slideshow": {
     "slide_type": "slide"
    }
   },
   "outputs": [],
   "source": [
    "class AspectRatioRectangle(object):\n",
    "    \n",
    "    def __init__(self, width, height):\n",
    "        self.original_width = width\n",
    "        self.original_height = height\n",
    "        self.scale = 1\n",
    "        \n",
    "    @my_property\n",
    "    def width(self):\n",
    "        return self.original_width * self.scale\n",
    "    \n",
    "    @width.setter\n",
    "    def width(self, new_width):\n",
    "        self.scale = new_width / self.original_width\n",
    "    \n",
    "    @my_property\n",
    "    def height(self):\n",
    "        return self.original_height * self.scale\n",
    "    \n",
    "    @height.setter\n",
    "    def height(self, new_height):\n",
    "        self.scale = new_height / self.original_height\n",
    "        \n",
    "    def __repr__(self):\n",
    "        return f\"{type(self).__name__}({self.width}, {self.height})\""
   ]
  },
  {
   "cell_type": "code",
   "execution_count": 10,
   "metadata": {
    "slideshow": {
     "slide_type": "slide"
    }
   },
   "outputs": [
    {
     "name": "stdout",
     "output_type": "stream",
     "text": [
      "AspectRatioRectangle(3, 4)\n",
      "AspectRatioRectangle(7.5, 10.0)\n",
      "AspectRatioRectangle(6.0, 8.0)\n"
     ]
    }
   ],
   "source": [
    "rect = AspectRatioRectangle(3, 4)\n",
    "print(rect)\n",
    "rect.height = 10\n",
    "print(rect)\n",
    "rect.width = 6\n",
    "print(rect)"
   ]
  }
 ],
 "metadata": {
  "celltoolbar": "Slideshow",
  "kernelspec": {
   "display_name": "Python 3",
   "language": "python",
   "name": "python3"
  },
  "language_info": {
   "codemirror_mode": {
    "name": "ipython",
    "version": 3
   },
   "file_extension": ".py",
   "mimetype": "text/x-python",
   "name": "python",
   "nbconvert_exporter": "python",
   "pygments_lexer": "ipython3",
   "version": "3.6.5"
  },
  "rise": {
   "scroll": true,
   "theme": "black"
  }
 },
 "nbformat": 4,
 "nbformat_minor": 2
}

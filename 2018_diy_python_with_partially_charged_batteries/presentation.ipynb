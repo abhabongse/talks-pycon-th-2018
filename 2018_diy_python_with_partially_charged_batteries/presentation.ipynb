{
 "cells": [
  {
   "cell_type": "markdown",
   "metadata": {
    "slideshow": {
     "slide_type": "slide"
    }
   },
   "source": [
    "# Do It Yourself: Python With Partially Charged Batteries\n",
    "\n",
    "<span class=\"hl\">\n",
    "Abhabongse Janthong **· Plane** <br/>\n",
    "Watcharapol Watcharawisetkul **· Group**\n",
    "</span>\n",
    "\n",
    "<small>Kasikorn Business Technology Group</small>"
   ]
  },
  {
   "cell_type": "code",
   "execution_count": null,
   "metadata": {
    "slideshow": {
     "slide_type": "-"
    }
   },
   "outputs": [],
   "source": [
    "autoplay = False  # YouTube autoplay"
   ]
  },
  {
   "cell_type": "markdown",
   "metadata": {
    "slideshow": {
     "slide_type": "slide"
    }
   },
   "source": [
    "<h1 class=\"center\">“Batteries Included”</h1>"
   ]
  },
  {
   "cell_type": "markdown",
   "metadata": {
    "slideshow": {
     "slide_type": "notes"
    }
   },
   "source": [
    "For the next few slides, we explain the slogan “Batteries Included” in Python\n",
    "\n",
    "1. A video on toys without batteries included (put slogan into context).\n",
    "2. This talk will turn **“partially charged”** batteries into **“fully-charged”**."
   ]
  },
  {
   "cell_type": "code",
   "execution_count": null,
   "metadata": {
    "slideshow": {
     "slide_type": "-"
    }
   },
   "outputs": [],
   "source": [
    "from talk_resources import YouTubeVideo\n",
    "display(YouTubeVideo('foWwW1_CFw4', autoplay=autoplay))"
   ]
  },
  {
   "cell_type": "markdown",
   "metadata": {
    "slideshow": {
     "slide_type": "slide"
    }
   },
   "source": [
    "<h1 class=\"center\">Charging Batteries</h1>\n",
    "\n",
    "&nbsp;\n",
    "\n",
    "<div class=\"center smcp text-120\">\n",
    "from &nbsp; <i class=\"fa-battery-1 fa-lg fa\" style=\"color: #D66;\"></i> &nbsp; \n",
    "to &nbsp; <i class=\"fa-battery-4 fa-lg fa\" style=\"color: #6D6;\"></i>\n",
    "</div>"
   ]
  },
  {
   "cell_type": "markdown",
   "metadata": {
    "slideshow": {
     "slide_type": "slide"
    }
   },
   "source": [
    "# 1. Built-in `range` function\n",
    "\n",
    "Example"
   ]
  },
  {
   "cell_type": "code",
   "execution_count": 1,
   "metadata": {
    "slideshow": {
     "slide_type": "-"
    }
   },
   "outputs": [
    {
     "name": "stdout",
     "output_type": "stream",
     "text": [
      "[0, 1, 2, 3, 4, 5, 6, 7, 8, 9]\n",
      "[2, 5, 8]\n",
      "[5, 3, 1]\n",
      "[]\n"
     ]
    }
   ],
   "source": [
    "print(list(range(10)))\n",
    "print(list(range(2, 10, 3)))\n",
    "print(list(range(5, 0, -2)))\n",
    "print(list(range(4, 1)))"
   ]
  },
  {
   "cell_type": "markdown",
   "metadata": {
    "slideshow": {
     "slide_type": "slide"
    }
   },
   "source": [
    "## Our implementation of `range`"
   ]
  },
  {
   "cell_type": "code",
   "execution_count": 2,
   "metadata": {
    "slideshow": {
     "slide_type": "-"
    }
   },
   "outputs": [
    {
     "name": "stdout",
     "output_type": "stream",
     "text": [
      "[0, 1, 2, 3, 4, 5, 6, 7, 8, 9]\n",
      "[2, 5, 8]\n",
      "[5, 3, 1]\n",
      "[]\n"
     ]
    }
   ],
   "source": [
    "def my_range(start, stop=None, step=1):\n",
    "    \"\"\"Implements built-in ``range()`` function.\"\"\"\n",
    "    \n",
    "    if not isinstance(step, int):\n",
    "        raise TypeError('step must be integer')\n",
    "    if step == 0:\n",
    "        raise ValueError('step cannot be zero')\n",
    "    \n",
    "    if stop is None:  # built-in syntax special case\n",
    "        stop = start; start = 0    \n",
    "    curr = start\n",
    "    \n",
    "    while (curr < stop) if (step > 0) else (curr > stop):\n",
    "        yield curr\n",
    "        curr += step\n",
    "        \n",
    "print(list(my_range(10)))\n",
    "print(list(my_range(2, 10, 3)))\n",
    "print(list(my_range(5, 0, -2)))\n",
    "print(list(my_range(4, 1)))"
   ]
  },
  {
   "cell_type": "markdown",
   "metadata": {
    "slideshow": {
     "slide_type": "slide"
    }
   },
   "source": [
    "# 2. Filter-Map-Reduce\n",
    "\n",
    "**Higher-order functions on sequences** <br/>\n",
    "<small class=\"hl\">_Sidenote:_ Using **comprehensions** could be a better option.</small>"
   ]
  },
  {
   "cell_type": "code",
   "execution_count": 3,
   "metadata": {
    "slideshow": {
     "slide_type": "-"
    }
   },
   "outputs": [
    {
     "name": "stdout",
     "output_type": "stream",
     "text": [
      "[17, 13, 11]\n",
      "[34, 8, 18, 26, 12, 22]\n",
      "['ab', 'pq', 'xy']\n",
      "525096\n"
     ]
    }
   ],
   "source": [
    "from functools import reduce\n",
    "\n",
    "values = [17, 4, 9, 13, 6, 11]\n",
    "\n",
    "# filter: List of values greater than 10\n",
    "print(list(filter(lambda x: x > 10, values)))\n",
    "\n",
    "# map: Double each value in the list\n",
    "print(list(map(lambda x: x * 2, values)))\n",
    "print(list(map(lambda x, y: x + y, 'apx', 'bqy')))\n",
    "\n",
    "# reduce: Find the product of all values\n",
    "print(reduce(lambda x, y: x * y, values))"
   ]
  },
  {
   "cell_type": "markdown",
   "metadata": {
    "slideshow": {
     "slide_type": "slide"
    }
   },
   "source": [
    "## 2A. Our implementation of `filter`"
   ]
  },
  {
   "cell_type": "code",
   "execution_count": 4,
   "metadata": {
    "slideshow": {
     "slide_type": "-"
    }
   },
   "outputs": [
    {
     "name": "stdout",
     "output_type": "stream",
     "text": [
      "[17, 13, 11]\n",
      "[1, True]\n"
     ]
    }
   ],
   "source": [
    "def my_filter(cond_function, iterable):\n",
    "    \"\"\"Implements built-in ``filter()`` function.\"\"\"\n",
    "    \n",
    "    if cond_function is None:\n",
    "        cond_function = lambda value: value\n",
    "    \n",
    "    for value in iterable:\n",
    "        if cond_function(value):\n",
    "            yield value\n",
    "            \n",
    "print(list(my_filter(lambda x: x > 10, [17, 4, 9, 13, 6, 11])))\n",
    "print(list(my_filter(None, [0, 1, True, False, None])))"
   ]
  },
  {
   "cell_type": "markdown",
   "metadata": {
    "slideshow": {
     "slide_type": "slide"
    }
   },
   "source": [
    "## 2B. Our implementation of `map` <small>(simplified)<small>"
   ]
  },
  {
   "cell_type": "markdown",
   "metadata": {
    "slideshow": {
     "slide_type": "notes"
    }
   },
   "source": [
    "1. Show `my_simple_map()` which works just like `map()` but accepting just one iterable.\n",
    "    - A solution mimicks one from `my_filter()`\n",
    "    - Mention another solution about how **generator expressions** can be used.\n",
    "2. Show the generic `my_map()` implementation. This uses `zip` which may be considered cheating.\n",
    "3. As an aside, show the implementation of `my_zip()`."
   ]
  },
  {
   "cell_type": "code",
   "execution_count": 5,
   "metadata": {
    "slideshow": {
     "slide_type": "-"
    }
   },
   "outputs": [
    {
     "name": "stdout",
     "output_type": "stream",
     "text": [
      "[34, 8, 18, 26, 12, 22]\n"
     ]
    }
   ],
   "source": [
    "def my_simple_map(trans_function, iterable):\n",
    "    \"\"\"Implements built-in ``map()`` function accepting only one iterable.\"\"\"\n",
    "\n",
    "    for value in iterable:\n",
    "        yield trans_function(value)\n",
    "        \n",
    "print(list(my_simple_map(lambda x: x * 2, [17, 4, 9, 13, 6, 11])))"
   ]
  },
  {
   "cell_type": "markdown",
   "metadata": {
    "slideshow": {
     "slide_type": "slide"
    }
   },
   "source": [
    "## 2C. Our implementation of full-fledged `map`"
   ]
  },
  {
   "cell_type": "markdown",
   "metadata": {
    "slideshow": {
     "slide_type": "subslide"
    }
   },
   "source": [
    "### Primer on variable \\[un\\]packing: `*`"
   ]
  },
  {
   "cell_type": "code",
   "execution_count": 6,
   "metadata": {
    "slideshow": {
     "slide_type": "-"
    }
   },
   "outputs": [
    {
     "name": "stdout",
     "output_type": "stream",
     "text": [
      "First = 1, Second = 2, Rest = (3, 4, 5)\n",
      "First = 191, Second = 199, Rest = ()\n",
      "First = 100, Second = 0, Rest = (1, 200)\n"
     ]
    }
   ],
   "source": [
    "def my_func(fst, snd, *rest):\n",
    "    print(f'First = {fst}, Second = {snd}, Rest = {rest}')\n",
    "\n",
    "my_func(1, 2, 3, 4, 5)\n",
    "my_func(*[191, 199])\n",
    "my_func(100, *range(2), 200)"
   ]
  },
  {
   "cell_type": "code",
   "execution_count": 7,
   "metadata": {
    "slideshow": {
     "slide_type": "slide"
    }
   },
   "outputs": [
    {
     "name": "stdout",
     "output_type": "stream",
     "text": [
      "[20, 60, 120]\n",
      "[0, 3, 6, 9]\n"
     ]
    }
   ],
   "source": [
    "def my_map(trans_function, *iterables):\n",
    "    \"\"\"Implements built-in ``map()`` function.\"\"\"\n",
    "    \n",
    "    if not iterables:\n",
    "        raise TypeError(\"my_map() must have at least two arguments\")\n",
    "        \n",
    "    for values_tuple in zip(*iterables):\n",
    "        yield trans_function(*values_tuple)\n",
    "        \n",
    "print(list(my_map(lambda a, b: a * b, [10, 20, 30], [2, 3, 4])))\n",
    "print(list(my_map(lambda x, y, z: x + y + z, range(4), range(4), range(4))))"
   ]
  },
  {
   "cell_type": "markdown",
   "metadata": {
    "slideshow": {
     "slide_type": "slide"
    }
   },
   "source": [
    "## Aside: our implementation of `zip`"
   ]
  },
  {
   "cell_type": "code",
   "execution_count": 8,
   "metadata": {
    "slideshow": {
     "slide_type": "-"
    }
   },
   "outputs": [
    {
     "name": "stdout",
     "output_type": "stream",
     "text": [
      "[(1, 0), (2, 4), (3, 8)]\n"
     ]
    }
   ],
   "source": [
    "def my_zip(*iterables):\n",
    "    try:\n",
    "        iterators = tuple(my_simple_map(iter, iterables))\n",
    "        while True:\n",
    "            values_list = []\n",
    "            for it in iterators:\n",
    "                values_list.append(next(it))\n",
    "            yield tuple(values_list)\n",
    "    except StopIteration:\n",
    "        pass\n",
    "    \n",
    "print(list(my_zip([1, 2, 3, 4, 5], range(0, 10, 4))))"
   ]
  },
  {
   "cell_type": "markdown",
   "metadata": {
    "slideshow": {
     "slide_type": "subslide"
    }
   },
   "source": [
    "## Yet another attempt to compact the code"
   ]
  },
  {
   "cell_type": "code",
   "execution_count": 9,
   "metadata": {
    "slideshow": {
     "slide_type": "-"
    }
   },
   "outputs": [
    {
     "name": "stderr",
     "output_type": "stream",
     "text": [
      "/home/kite/.local/share/virtualenvs/pycon-th-talks-3jG7hNy1/lib/python3.6/site-packages/ipykernel_launcher.py:6: DeprecationWarning: generator 'my_simple_map' raised StopIteration\n",
      "  \n"
     ]
    },
    {
     "ename": "KeyboardInterrupt",
     "evalue": "",
     "output_type": "error",
     "traceback": [
      "\u001b[0;31m---------------------------------------------------------------------------\u001b[0m",
      "\u001b[0;31mKeyboardInterrupt\u001b[0m                         Traceback (most recent call last)",
      "\u001b[0;32m<ipython-input-9-b43a1701d89e>\u001b[0m in \u001b[0;36m<module>\u001b[0;34m()\u001b[0m\n\u001b[1;32m      8\u001b[0m         \u001b[0;32mpass\u001b[0m\u001b[0;34m\u001b[0m\u001b[0m\n\u001b[1;32m      9\u001b[0m \u001b[0;34m\u001b[0m\u001b[0m\n\u001b[0;32m---> 10\u001b[0;31m \u001b[0mprint\u001b[0m\u001b[0;34m(\u001b[0m\u001b[0mlist\u001b[0m\u001b[0;34m(\u001b[0m\u001b[0mmy_zip_other_attempt\u001b[0m\u001b[0;34m(\u001b[0m\u001b[0;34m[\u001b[0m\u001b[0;36m1\u001b[0m\u001b[0;34m,\u001b[0m \u001b[0;36m2\u001b[0m\u001b[0;34m,\u001b[0m \u001b[0;36m3\u001b[0m\u001b[0;34m,\u001b[0m \u001b[0;36m4\u001b[0m\u001b[0;34m,\u001b[0m \u001b[0;36m5\u001b[0m\u001b[0;34m]\u001b[0m\u001b[0;34m,\u001b[0m \u001b[0mrange\u001b[0m\u001b[0;34m(\u001b[0m\u001b[0;36m0\u001b[0m\u001b[0;34m,\u001b[0m \u001b[0;36m10\u001b[0m\u001b[0;34m,\u001b[0m \u001b[0;36m4\u001b[0m\u001b[0;34m)\u001b[0m\u001b[0;34m)\u001b[0m\u001b[0;34m)\u001b[0m\u001b[0;34m)\u001b[0m\u001b[0;34m\u001b[0m\u001b[0m\n\u001b[0m",
      "\u001b[0;32m<ipython-input-9-b43a1701d89e>\u001b[0m in \u001b[0;36mmy_zip_other_attempt\u001b[0;34m(*iterables)\u001b[0m\n\u001b[1;32m      4\u001b[0m         \u001b[0;32mwhile\u001b[0m \u001b[0;32mTrue\u001b[0m\u001b[0;34m:\u001b[0m\u001b[0;34m\u001b[0m\u001b[0m\n\u001b[1;32m      5\u001b[0m             \u001b[0;31m# Warning: loops forever\u001b[0m\u001b[0;34m\u001b[0m\u001b[0;34m\u001b[0m\u001b[0m\n\u001b[0;32m----> 6\u001b[0;31m             \u001b[0;32myield\u001b[0m \u001b[0mtuple\u001b[0m\u001b[0;34m(\u001b[0m\u001b[0mmy_simple_map\u001b[0m\u001b[0;34m(\u001b[0m\u001b[0mnext\u001b[0m\u001b[0;34m,\u001b[0m \u001b[0miterators\u001b[0m\u001b[0;34m)\u001b[0m\u001b[0;34m)\u001b[0m\u001b[0;34m\u001b[0m\u001b[0m\n\u001b[0m\u001b[1;32m      7\u001b[0m     \u001b[0;32mexcept\u001b[0m \u001b[0mStopIteration\u001b[0m\u001b[0;34m:\u001b[0m\u001b[0;34m\u001b[0m\u001b[0m\n\u001b[1;32m      8\u001b[0m         \u001b[0;32mpass\u001b[0m\u001b[0;34m\u001b[0m\u001b[0m\n",
      "\u001b[0;31mKeyboardInterrupt\u001b[0m: "
     ]
    }
   ],
   "source": [
    "def my_zip_other_attempt(*iterables):\n",
    "    try:\n",
    "        iterators = tuple(my_simple_map(iter, iterables))\n",
    "        while True:\n",
    "            # Warning: loops forever\n",
    "            yield tuple(my_simple_map(next, iterators))\n",
    "    except StopIteration:\n",
    "        pass\n",
    "    \n",
    "print(list(my_zip_other_attempt([1, 2, 3, 4, 5], range(0, 10, 4))))"
   ]
  },
  {
   "cell_type": "markdown",
   "metadata": {
    "slideshow": {
     "slide_type": "slide"
    }
   },
   "source": [
    "## 2D. Our implementation of `functools.reduce`"
   ]
  },
  {
   "cell_type": "code",
   "execution_count": 10,
   "metadata": {
    "slideshow": {
     "slide_type": "-"
    }
   },
   "outputs": [
    {
     "name": "stdout",
     "output_type": "stream",
     "text": [
      "362880\n",
      "> Yes I can\n"
     ]
    }
   ],
   "source": [
    "class _MISSING:\n",
    "    pass\n",
    "\n",
    "def my_reduce(accm_function, iterable, start=_MISSING):\n",
    "    it = iter(iterable)\n",
    "    accm = next(it) if start is _MISSING else start\n",
    "    for value in it:\n",
    "        accm = accm_function(accm, value)\n",
    "    return accm\n",
    "\n",
    "print(my_reduce(lambda a, b: a * b, range(1,10)))\n",
    "print(my_reduce(lambda a, b: f\"{a} {b}\", [\"Yes\", \"I\", \"can\"], \">\"))"
   ]
  },
  {
   "cell_type": "markdown",
   "metadata": {
    "slideshow": {
     "slide_type": "slide"
    }
   },
   "source": [
    "# 3. Partially supplied arguments with `functools.partial`\n",
    "\n"
   ]
  },
  {
   "cell_type": "code",
   "execution_count": 18,
   "metadata": {
    "slideshow": {
     "slide_type": "-"
    }
   },
   "outputs": [
    {
     "name": "stderr",
     "output_type": "stream",
     "text": [
      "[error] Hi!\n",
      "[error]_how_are_you\n"
     ]
    }
   ],
   "source": [
    "from functools import partial\n",
    "import sys\n",
    "\n",
    "print_error = partial(print, \"[error]\", file=sys.stderr)\n",
    "\n",
    "print_error(\"Hi!\")\n",
    "print_error(\"how\", \"are\", \"you\" ,sep=\"_\")"
   ]
  },
  {
   "cell_type": "code",
   "execution_count": 19,
   "metadata": {},
   "outputs": [
    {
     "name": "stdout",
     "output_type": "stream",
     "text": [
      "<class 'functools.partial'>\n"
     ]
    }
   ],
   "source": [
    "print(repr(partial))"
   ]
  },
  {
   "cell_type": "markdown",
   "metadata": {
    "slideshow": {
     "slide_type": "slide"
    }
   },
   "source": [
    "### Our implementation of `functools.partial`"
   ]
  },
  {
   "cell_type": "code",
   "execution_count": 21,
   "metadata": {
    "slideshow": {
     "slide_type": "-"
    }
   },
   "outputs": [
    {
     "name": "stderr",
     "output_type": "stream",
     "text": [
      "[error] Hi!\n",
      "[error]_how_are_you\n"
     ]
    }
   ],
   "source": [
    "class my_partial(object):\n",
    "    \"\"\"Store function with partially pre-specified arguments.\"\"\"\n",
    "    \n",
    "    def __init__(self, original_func, *args, **kwargs):\n",
    "        self.original_func = original_func\n",
    "        self.args = args\n",
    "        self.kwargs = kwargs\n",
    "\n",
    "    def __call__(self, *extra_args, **extra_kwargs):\n",
    "        new_kwargs = self.kwargs.copy()\n",
    "        new_kwargs.update(extra_kwargs)\n",
    "        return self.original_func(*self.args, *extra_args, **new_kwargs)\n",
    "    \n",
    "    \n",
    "print_error = my_partial(print, \"[error]\", file=sys.stderr)\n",
    "\n",
    "print_error(\"Hi!\")\n",
    "print_error(\"how\", \"are\", \"you\" ,sep=\"_\")"
   ]
  },
  {
   "cell_type": "markdown",
   "metadata": {
    "slideshow": {
     "slide_type": "slide"
    }
   },
   "source": [
    "# 4. Built-in `property` decorator function\n",
    "\n",
    "Making getter/setter methods inside class definition\n",
    "as if it is an instance property."
   ]
  },
  {
   "cell_type": "markdown",
   "metadata": {
    "slideshow": {
     "slide_type": "subslide"
    }
   },
   "source": [
    "### Primer on decorators"
   ]
  },
  {
   "cell_type": "code",
   "execution_count": 11,
   "metadata": {
    "slideshow": {
     "slide_type": "-"
    }
   },
   "outputs": [
    {
     "name": "stdout",
     "output_type": "stream",
     "text": [
      "None\n"
     ]
    },
    {
     "name": "stderr",
     "output_type": "stream",
     "text": [
      "Called 'add_numbers' at 2018-06-16 21:57:51.039656\n"
     ]
    }
   ],
   "source": [
    "from datetime import datetime\n",
    "import sys\n",
    "\n",
    "def log_usage(original_func):\n",
    "    def new_func(*args, **kwargs):\n",
    "        print(f\"Called '{original_func.__name__}' at {datetime.now()}\", \n",
    "              file=sys.stderr)\n",
    "        original_func(*args, **kwargs)\n",
    "    return new_func\n",
    "\n",
    "@log_usage  # decorator modifies original function\n",
    "def add_numbers(x, y):\n",
    "    return x + y\n",
    "\n",
    "print(add_numbers(10, 20))"
   ]
  },
  {
   "cell_type": "markdown",
   "metadata": {
    "slideshow": {
     "slide_type": "slide"
    }
   },
   "source": [
    "### Example of `property` usage"
   ]
  },
  {
   "cell_type": "code",
   "execution_count": 12,
   "metadata": {
    "slideshow": {
     "slide_type": "-"
    }
   },
   "outputs": [],
   "source": [
    "class AspectRatioRectangle(object):\n",
    "    \"\"\"Rectaingle maintaining original ratio when resize.\"\"\"\n",
    "    \n",
    "    def __init__(self, width, height):\n",
    "        self.original_width = width\n",
    "        self.original_height = height\n",
    "        self.scale = 1\n",
    "        \n",
    "    @property\n",
    "    def width(self):\n",
    "        return self.original_width * self.scale\n",
    "    \n",
    "    @width.setter\n",
    "    def width(self, new_width):\n",
    "        self.scale = new_width / self.original_width\n",
    "    \n",
    "    @property\n",
    "    def height(self):\n",
    "        return self.original_height * self.scale\n",
    "    \n",
    "    @height.setter\n",
    "    def height(self, new_height):\n",
    "        self.scale = new_height / self.original_height\n",
    "        \n",
    "    def __repr__(self):\n",
    "        return f\"{type(self).__name__}({self.width}, {self.height})\""
   ]
  },
  {
   "cell_type": "code",
   "execution_count": 13,
   "metadata": {
    "slideshow": {
     "slide_type": "subslide"
    }
   },
   "outputs": [
    {
     "name": "stdout",
     "output_type": "stream",
     "text": [
      "AspectRatioRectangle(3, 4)\n",
      "AspectRatioRectangle(7.5, 10.0)\n",
      "AspectRatioRectangle(6.0, 8.0)\n"
     ]
    }
   ],
   "source": [
    "rect = AspectRatioRectangle(3, 4)\n",
    "print(rect)\n",
    "rect.height = 10\n",
    "print(rect)\n",
    "rect.width = 6\n",
    "print(rect)"
   ]
  },
  {
   "cell_type": "code",
   "execution_count": 14,
   "metadata": {
    "slideshow": {
     "slide_type": "slide"
    }
   },
   "outputs": [],
   "source": [
    "class my_property(object):\n",
    "    \"\"\"\n",
    "    Implements built-in ``property`` decorator function.\n",
    "    Adapted from https://docs.python.org/3.6/howto/descriptor.html\n",
    "    \"\"\"\n",
    "    def __init__(self, getter_fn):\n",
    "        self.getter_fn = getter_fn\n",
    "        self.setter_fn = None\n",
    "        \n",
    "    def __get__(self, instance, cls=None):\n",
    "        if instance is None:\n",
    "            return self          \n",
    "        return self.getter_fn(instance)\n",
    "\n",
    "    def __set__(self, instance, value):\n",
    "        if self.setter_fn is None:\n",
    "            raise AttributeError(\"cannot modify attribute\")\n",
    "        self.setter_fn(instance, value)\n",
    "\n",
    "    def setter(self, setter_fn):\n",
    "        self.setter_fn = setter_fn\n",
    "        return self"
   ]
  },
  {
   "cell_type": "code",
   "execution_count": 15,
   "metadata": {
    "slideshow": {
     "slide_type": "subslide"
    }
   },
   "outputs": [],
   "source": [
    "class AspectRatioRectangle(object):\n",
    "    \n",
    "    def __init__(self, width, height):\n",
    "        self.original_width = width\n",
    "        self.original_height = height\n",
    "        self.scale = 1\n",
    "        \n",
    "    @my_property\n",
    "    def width(self):\n",
    "        return self.original_width * self.scale\n",
    "    \n",
    "    @width.setter\n",
    "    def width(self, new_width):\n",
    "        self.scale = new_width / self.original_width\n",
    "    \n",
    "    @my_property\n",
    "    def height(self):\n",
    "        return self.original_height * self.scale\n",
    "    \n",
    "    @height.setter\n",
    "    def height(self, new_height):\n",
    "        self.scale = new_height / self.original_height\n",
    "        \n",
    "    def __repr__(self):\n",
    "        return f\"{type(self).__name__}({self.width}, {self.height})\""
   ]
  },
  {
   "cell_type": "code",
   "execution_count": 16,
   "metadata": {
    "slideshow": {
     "slide_type": "subslide"
    }
   },
   "outputs": [
    {
     "name": "stdout",
     "output_type": "stream",
     "text": [
      "AspectRatioRectangle(3, 4)\n",
      "AspectRatioRectangle(7.5, 10.0)\n",
      "AspectRatioRectangle(6.0, 8.0)\n"
     ]
    }
   ],
   "source": [
    "rect = AspectRatioRectangle(3, 4)\n",
    "print(rect)\n",
    "rect.height = 10\n",
    "print(rect)\n",
    "rect.width = 6\n",
    "print(rect)"
   ]
  }
 ],
 "metadata": {
  "celltoolbar": "Slideshow",
  "kernelspec": {
   "display_name": "Python 3",
   "language": "python",
   "name": "python3"
  },
  "language_info": {
   "codemirror_mode": {
    "name": "ipython",
    "version": 3
   },
   "file_extension": ".py",
   "mimetype": "text/x-python",
   "name": "python",
   "nbconvert_exporter": "python",
   "pygments_lexer": "ipython3",
   "version": "3.6.5"
  },
  "rise": {
   "scroll": true,
   "theme": "black"
  }
 },
 "nbformat": 4,
 "nbformat_minor": 2
}

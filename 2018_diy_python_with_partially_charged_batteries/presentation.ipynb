{
 "cells": [
  {
   "cell_type": "markdown",
   "metadata": {
    "slideshow": {
     "slide_type": "skip"
    }
   },
   "source": [
    "- built-in range function\n",
    "- property decorator\n",
    "- namedtuple class constructor\n",
    "- Enum class (since Python 3.4)\n",
    "- dataclass (since Python 3.7)\n",
    "- etc."
   ]
  },
  {
   "cell_type": "code",
   "execution_count": 1,
   "metadata": {
    "slideshow": {
     "slide_type": "skip"
    }
   },
   "outputs": [],
   "source": [
    "from IPython.display import HTML\n",
    "\n",
    "NO_BATTERIES_VIDEO = lambda: HTML('''\n",
    "    <iframe width=\"560\" height=\"315\" \n",
    "        src=\"https://www.youtube.com/embed/uCQG5Hb6Gew?rel=0&amp;showinfo=0\"\n",
    "         frameborder=\"0\" allow=\"autoplay; encrypted-media\" allowfullscreen>\n",
    "    </iframe>\n",
    "''')\n",
    "\n",
    "from IPython.lib.display import YouTubeVideo"
   ]
  },
  {
   "cell_type": "markdown",
   "metadata": {
    "slideshow": {
     "slide_type": "slide"
    }
   },
   "source": [
    "# Do It Yourself: Python With Partially Charged Batteries\n",
    "\n",
    "<span class=\"hl\">\n",
    "Abhabongse Janthong **· Plane** <br/>\n",
    "Watcharapol Watcharawisetkul **· Group**\n",
    "</span>\n",
    "\n",
    "<small>Kasikorn Business Technology Group</small>"
   ]
  },
  {
   "cell_type": "markdown",
   "metadata": {
    "slideshow": {
     "slide_type": "slide"
    }
   },
   "source": [
    "<h1 class=\"center\">“Batteries Included”</h1>"
   ]
  },
  {
   "cell_type": "code",
   "execution_count": 11,
   "metadata": {
    "slideshow": {
     "slide_type": "-"
    }
   },
   "outputs": [
    {
     "data": {
      "text/html": [
       "\n",
       "            <iframe width=\"1120\" height=\"630\" \n",
       "                src=\"https://www.youtube.com/embed/uCQG5Hb6Gew?rel=0&amp;showinfo=0\"\n",
       "                frameborder=\"0\" allow=\"autoplay; encrypted-media\" allowfullscreen>\n",
       "            </iframe>\n",
       "        "
      ],
      "text/plain": [
       "<talks_videos.YouTubeVideo at 0x7fe59d60b6d8>"
      ]
     },
     "metadata": {},
     "output_type": "display_data"
    }
   ],
   "source": [
    "from talks_videos import NO_BATTERIES\n",
    "display(NO_BATTERIES)"
   ]
  },
  {
   "cell_type": "markdown",
   "metadata": {
    "slideshow": {
     "slide_type": "slide"
    }
   },
   "source": [
    "<img alt=\"\" class=\"center\" width=\"600\" style=\"background-color: rgba(0,0,0,0); fill: white\" src=\"data:image/svg+xml;base64,PD94bWwgdmVyc2lvbj0iMS4wIiBlbmNvZGluZz0iaXNvLTg4NTktMSI/Pg0KPCEtLSBHZW5lcmF0b3I6IEFkb2JlIElsbHVzdHJhdG9yIDE2LjAuMCwgU1ZHIEV4cG9ydCBQbHVnLUluIC4gU1ZHIFZlcnNpb246IDYuMDAgQnVpbGQgMCkgIC0tPg0KPCFET0NUWVBFIHN2ZyBQVUJMSUMgIi0vL1czQy8vRFREIFNWRyAxLjEvL0VOIiAiaHR0cDovL3d3dy53My5vcmcvR3JhcGhpY3MvU1ZHLzEuMS9EVEQvc3ZnMTEuZHRkIj4NCjxzdmcgdmVyc2lvbj0iMS4xIiBpZD0iQ2FwYV8xIiB4bWxucz0iaHR0cDovL3d3dy53My5vcmcvMjAwMC9zdmciIHhtbG5zOnhsaW5rPSJodHRwOi8vd3d3LnczLm9yZy8xOTk5L3hsaW5rIiB4PSIwcHgiIHk9IjBweCINCgkgd2lkdGg9IjMycHgiIGhlaWdodD0iMzJweCIgdmlld0JveD0iMCAwIDMyIDMyIiBzdHlsZT0iZW5hYmxlLWJhY2tncm91bmQ6bmV3IDAgMCAzMiAzMjsiIHhtbDpzcGFjZT0icHJlc2VydmUiPg0KPGc+DQoJPGcgaWQ9Ikxvd194NUZfQ2hhcmdlZF94NUZfQmF0dGVyeSI+DQoJCTxnPg0KCQkJPHBhdGggZD0iTTMwLDExaC0yYzAtMS42NTQtMS4zNDYtMy0zLTNIM2MtMS42NTQsMC0zLDEuMzQ2LTMsM3YxMGMwLDEuNjU0LDEuMzQ2LDMsMywzaDIyYzEuNjU0LDAsMy0xLjM0NiwzLTNoMg0KCQkJCWMxLjEwNCwwLDItMC44OTYsMi0ydi02QzMyLDExLjg5NywzMS4xMDQsMTEsMzAsMTF6IE0yNiwyMWMwLDAuNTUyLTAuNDQ4LDEtMSwxSDNjLTAuNTUyLDAtMS0wLjQ0OC0xLTFWMTFjMC0wLjU1MiwwLjQ0OC0xLDEtMQ0KCQkJCWgyMmMwLjU1MiwwLDEsMC40NDgsMSwxVjIxeiBNMzAsMTloLTJ2LTZoMlYxOXogTTcuNDQ3LDEyLjg5NUM3LjIwMSwxMi40MDIsNi41NSwxMiw2LDEySDVjLTAuNTUsMC0xLDAuNDUtMSwxdjYNCgkJCQljMCwwLjU1LDAuNDUsMSwxLDFoNWMwLjU1LDAsMC43OTktMC40MDIsMC41NTMtMC44OTVMNy40NDcsMTIuODk1eiIgZmlsbD0iI2Q0NCIvPg0KCQk8L2c+DQoJPC9nPg0KPC9nPg0KPGc+DQo8L2c+DQo8Zz4NCjwvZz4NCjxnPg0KPC9nPg0KPGc+DQo8L2c+DQo8Zz4NCjwvZz4NCjxnPg0KPC9nPg0KPGc+DQo8L2c+DQo8Zz4NCjwvZz4NCjxnPg0KPC9nPg0KPGc+DQo8L2c+DQo8Zz4NCjwvZz4NCjxnPg0KPC9nPg0KPGc+DQo8L2c+DQo8Zz4NCjwvZz4NCjxnPg0KPC9nPg0KPC9zdmc+DQo=\" />"
   ]
  },
  {
   "cell_type": "markdown",
   "metadata": {
    "slideshow": {
     "slide_type": "fragment"
    }
   },
   "source": [
    "<h2 class=\"center cry\">DOWNLOAD THIS APP NOW TO INSTALL BATTERIES!</h2>"
   ]
  },
  {
   "cell_type": "markdown",
   "metadata": {
    "slideshow": {
     "slide_type": "slide"
    }
   },
   "source": [
    "## 1. Built-in `range` function"
   ]
  },
  {
   "cell_type": "code",
   "execution_count": 3,
   "metadata": {
    "slideshow": {
     "slide_type": "-"
    }
   },
   "outputs": [
    {
     "name": "stdout",
     "output_type": "stream",
     "text": [
      "[0, 1, 2, 3, 4, 5, 6, 7, 8, 9]\n",
      "[2, 5, 8]\n",
      "[5, 3, 1]\n",
      "[]\n"
     ]
    }
   ],
   "source": [
    "print(list(range(10)))\n",
    "print(list(range(2, 10, 3)))\n",
    "print(list(range(5, 0, -2)))\n",
    "print(list(range(4, 1)))"
   ]
  },
  {
   "cell_type": "markdown",
   "metadata": {
    "slideshow": {
     "slide_type": "slide"
    }
   },
   "source": [
    "## Our implementation of `range`"
   ]
  },
  {
   "cell_type": "code",
   "execution_count": 4,
   "metadata": {
    "slideshow": {
     "slide_type": "-"
    }
   },
   "outputs": [],
   "source": [
    "def my_range(start, stop=None, step=1):\n",
    "    \"\"\"Implements built-in ``range()`` function.\"\"\"\n",
    "    \n",
    "    if not isinstance(step, int):\n",
    "        raise TypeError('step must be integer')\n",
    "    if step == 0:\n",
    "        raise ValueError('step cannot be zero')\n",
    "    \n",
    "    if stop is None:  # built-in syntax special case\n",
    "        stop = start; start = 0    \n",
    "    curr = start\n",
    "    \n",
    "    while (curr < stop) if (step > 0) else (curr > stop):\n",
    "        yield curr\n",
    "        curr += step\n"
   ]
  },
  {
   "cell_type": "code",
   "execution_count": 5,
   "metadata": {
    "slideshow": {
     "slide_type": "slide"
    }
   },
   "outputs": [
    {
     "name": "stdout",
     "output_type": "stream",
     "text": [
      "[0, 1, 2, 3, 4, 5, 6, 7, 8, 9]\n",
      "[2, 5, 8]\n",
      "[5, 3, 1]\n",
      "[]\n"
     ]
    }
   ],
   "source": [
    "print(list(my_range(10)))\n",
    "print(list(my_range(2, 10, 3)))\n",
    "print(list(my_range(5, 0, -2)))\n",
    "print(list(my_range(4, 1)))"
   ]
  },
  {
   "cell_type": "markdown",
   "metadata": {
    "slideshow": {
     "slide_type": "slide"
    }
   },
   "source": [
    "# Built-in `property` decorator function\n",
    "\n",
    "Making getter/setter methods inside class definition\n",
    "as if it is an instance property."
   ]
  },
  {
   "cell_type": "code",
   "execution_count": 6,
   "metadata": {
    "slideshow": {
     "slide_type": "-"
    }
   },
   "outputs": [],
   "source": [
    "class AspectRatioRectangle(object):\n",
    "    \"\"\"\n",
    "    Rectangle object maintaining the original\n",
    "    aspect ratio when resizing width or height.\n",
    "    \"\"\"\n",
    "    \n",
    "    def __init__(self, width, height):\n",
    "        self.original_width = width\n",
    "        self.original_height = height\n",
    "        self.scale = 1\n",
    "        \n",
    "    @property\n",
    "    def width(self):\n",
    "        return self.original_width * self.scale\n",
    "    \n",
    "    @width.setter\n",
    "    def width(self, new_width):\n",
    "        self.scale = new_width / self.original_width\n",
    "    \n",
    "    @property\n",
    "    def height(self):\n",
    "        return self.original_height * self.scale\n",
    "    \n",
    "    @height.setter\n",
    "    def height(self, new_height):\n",
    "        self.scale = new_height / self.original_height\n",
    "        \n",
    "    def __repr__(self):\n",
    "        return f\"{type(self).__name__}({self.width}, {self.height})\""
   ]
  },
  {
   "cell_type": "code",
   "execution_count": 7,
   "metadata": {
    "slideshow": {
     "slide_type": "slide"
    }
   },
   "outputs": [
    {
     "name": "stdout",
     "output_type": "stream",
     "text": [
      "AspectRatioRectangle(3, 4)\n",
      "AspectRatioRectangle(7.5, 10.0)\n",
      "AspectRatioRectangle(6.0, 8.0)\n"
     ]
    }
   ],
   "source": [
    "rect = AspectRatioRectangle(3, 4)\n",
    "print(rect)\n",
    "rect.height = 10\n",
    "print(rect)\n",
    "rect.width = 6\n",
    "print(rect)"
   ]
  },
  {
   "cell_type": "code",
   "execution_count": 8,
   "metadata": {
    "slideshow": {
     "slide_type": "slide"
    }
   },
   "outputs": [],
   "source": [
    "class my_property(object):\n",
    "    \"\"\"\n",
    "    Implements built-in ``property`` decorator function.\n",
    "    Adapted from https://docs.python.org/3.6/howto/descriptor.html\n",
    "    \"\"\"\n",
    "    def __init__(self, getter_fn):\n",
    "        self.getter_fn = getter_fn\n",
    "        self.setter_fn = None\n",
    "        \n",
    "    def __get__(self, instance, cls=None):\n",
    "        if instance is None:\n",
    "            return self          \n",
    "        return self.getter_fn(instance)\n",
    "\n",
    "    def __set__(self, instance, value):\n",
    "        if self.setter_fn is None:\n",
    "            raise AttributeError(\"cannot modify attribute\")\n",
    "        self.setter_fn(instance, value)\n",
    "\n",
    "    def setter(self, setter_fn):\n",
    "        self.setter_fn = setter_fn\n",
    "        return self"
   ]
  },
  {
   "cell_type": "code",
   "execution_count": 9,
   "metadata": {
    "slideshow": {
     "slide_type": "slide"
    }
   },
   "outputs": [],
   "source": [
    "class AspectRatioRectangle(object):\n",
    "    \n",
    "    def __init__(self, width, height):\n",
    "        self.original_width = width\n",
    "        self.original_height = height\n",
    "        self.scale = 1\n",
    "        \n",
    "    @my_property\n",
    "    def width(self):\n",
    "        return self.original_width * self.scale\n",
    "    \n",
    "    @width.setter\n",
    "    def width(self, new_width):\n",
    "        self.scale = new_width / self.original_width\n",
    "    \n",
    "    @my_property\n",
    "    def height(self):\n",
    "        return self.original_height * self.scale\n",
    "    \n",
    "    @height.setter\n",
    "    def height(self, new_height):\n",
    "        self.scale = new_height / self.original_height\n",
    "        \n",
    "    def __repr__(self):\n",
    "        return f\"{type(self).__name__}({self.width}, {self.height})\""
   ]
  },
  {
   "cell_type": "code",
   "execution_count": 10,
   "metadata": {
    "slideshow": {
     "slide_type": "slide"
    }
   },
   "outputs": [
    {
     "name": "stdout",
     "output_type": "stream",
     "text": [
      "AspectRatioRectangle(3, 4)\n",
      "AspectRatioRectangle(7.5, 10.0)\n",
      "AspectRatioRectangle(6.0, 8.0)\n"
     ]
    }
   ],
   "source": [
    "rect = AspectRatioRectangle(3, 4)\n",
    "print(rect)\n",
    "rect.height = 10\n",
    "print(rect)\n",
    "rect.width = 6\n",
    "print(rect)"
   ]
  },
  {
   "cell_type": "code",
   "execution_count": null,
   "metadata": {},
   "outputs": [],
   "source": []
  }
 ],
 "metadata": {
  "celltoolbar": "Slideshow",
  "kernelspec": {
   "display_name": "Python 3",
   "language": "python",
   "name": "python3"
  },
  "language_info": {
   "codemirror_mode": {
    "name": "ipython",
    "version": 3
   },
   "file_extension": ".py",
   "mimetype": "text/x-python",
   "name": "python",
   "nbconvert_exporter": "python",
   "pygments_lexer": "ipython3",
   "version": "3.6.5"
  },
  "rise": {
   "scroll": true,
   "theme": "black"
  }
 },
 "nbformat": 4,
 "nbformat_minor": 2
}

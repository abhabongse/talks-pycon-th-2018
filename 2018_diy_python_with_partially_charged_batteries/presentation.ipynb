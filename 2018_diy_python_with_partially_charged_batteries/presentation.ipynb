{
 "cells": [
  {
   "cell_type": "markdown",
   "metadata": {
    "slideshow": {
     "slide_type": "slide"
    }
   },
   "source": [
    "# Do It Yourself: Python With Partially Charged Batteries\n",
    "\n",
    "<span class=\"hl\"> \n",
    "**Plane · ** Abhabongse Janthong **·** <i class=\"fa fa-github\"></i> abhabongse <br/>\n",
    "**Group · ** Watcharapol Watcharawisetkul **·** <i class=\"fa fa-github\"/></i> groupw66\n",
    "</span>\n",
    "\n",
    "<small>Kasikorn Business Technology Group</small>"
   ]
  },
  {
   "cell_type": "code",
   "execution_count": 1,
   "metadata": {
    "slideshow": {
     "slide_type": "-"
    }
   },
   "outputs": [],
   "source": [
    "autoplay = False  # YouTube autoplay"
   ]
  },
  {
   "cell_type": "markdown",
   "metadata": {
    "slideshow": {
     "slide_type": "slide"
    }
   },
   "source": [
    "<h1 class=\"center\">“Batteries Included”</h1>"
   ]
  },
  {
   "cell_type": "markdown",
   "metadata": {
    "slideshow": {
     "slide_type": "notes"
    }
   },
   "source": [
    "For the next few slides, we explain the slogan “Batteries Included” in Python\n",
    "\n",
    "1. A video on toys without batteries included (put slogan into context).\n",
    "2. This talk will turn **“partially charged”** batteries into **“fully-charged”**."
   ]
  },
  {
   "cell_type": "code",
   "execution_count": 2,
   "metadata": {
    "slideshow": {
     "slide_type": "-"
    }
   },
   "outputs": [
    {
     "data": {
      "text/html": [
       "\n",
       "<div class=\"center\">\n",
       "    <iframe width=\"960\" height=\"540\"\n",
       "        src=\"https://www.youtube.com/embed/foWwW1_CFw4?rel=0\"\n",
       "        frameborder=\"0\" allow=\"autoplay; encrypted-media\" allowfullscreen>\n",
       "    </iframe>\n",
       "<div>\n",
       "        "
      ],
      "text/plain": [
       "<talk_resources.YouTubeVideo at 0x7f6f8c248cc0>"
      ]
     },
     "metadata": {},
     "output_type": "display_data"
    }
   ],
   "source": [
    "from talk_resources import YouTubeVideo\n",
    "display(YouTubeVideo('foWwW1_CFw4', autoplay=autoplay))"
   ]
  },
  {
   "cell_type": "markdown",
   "metadata": {
    "slideshow": {
     "slide_type": "slide"
    }
   },
   "source": [
    "<h1 class=\"center\">Charging Batteries</h1>\n",
    "\n",
    "&nbsp;\n",
    "\n",
    "<div class=\"center smcp text-120\">\n",
    "from &nbsp; <i class=\"fa-battery-1 fa-lg fa\" style=\"color: #D66;\"></i> &nbsp; \n",
    "to &nbsp; <i class=\"fa-battery-4 fa-lg fa\" style=\"color: #6D6;\"></i>\n",
    "</div>"
   ]
  },
  {
   "cell_type": "markdown",
   "metadata": {
    "slideshow": {
     "slide_type": "slide"
    }
   },
   "source": [
    "# 1. Built-in `range` function\n",
    "\n",
    "Example"
   ]
  },
  {
   "cell_type": "code",
   "execution_count": 3,
   "metadata": {
    "slideshow": {
     "slide_type": "-"
    }
   },
   "outputs": [
    {
     "name": "stdout",
     "output_type": "stream",
     "text": [
      "[0, 1, 2, 3, 4, 5, 6, 7, 8, 9]\n",
      "[2, 5, 8]\n",
      "[5, 3, 1]\n",
      "[]\n"
     ]
    }
   ],
   "source": [
    "print(list(range(10)))\n",
    "print(list(range(2, 10, 3)))\n",
    "print(list(range(5, 0, -2)))\n",
    "print(list(range(4, 1)))"
   ]
  },
  {
   "cell_type": "markdown",
   "metadata": {
    "slideshow": {
     "slide_type": "slide"
    }
   },
   "source": [
    "## Our implementation of `range`"
   ]
  },
  {
   "cell_type": "code",
   "execution_count": 4,
   "metadata": {
    "slideshow": {
     "slide_type": "-"
    }
   },
   "outputs": [
    {
     "name": "stdout",
     "output_type": "stream",
     "text": [
      "[0, 1, 2, 3, 4, 5, 6, 7, 8, 9]\n",
      "[2, 5, 8]\n",
      "[5, 3, 1]\n",
      "[]\n"
     ]
    }
   ],
   "source": [
    "def my_range(start, stop=None, step=1):\n",
    "    \"\"\"Implements built-in ``range()`` function.\"\"\"\n",
    "    \n",
    "    if not isinstance(step, int):\n",
    "        raise TypeError('step must be integer')\n",
    "    if step == 0:\n",
    "        raise ValueError('step cannot be zero')\n",
    "    \n",
    "    if stop is None:  # built-in syntax special case\n",
    "        stop = start; start = 0    \n",
    "    curr = start\n",
    "    \n",
    "    while (curr < stop) if (step > 0) else (curr > stop):\n",
    "        yield curr\n",
    "        curr += step\n",
    "        \n",
    "print(list(my_range(10)))\n",
    "print(list(my_range(2, 10, 3)))\n",
    "print(list(my_range(5, 0, -2)))\n",
    "print(list(my_range(4, 1)))"
   ]
  },
  {
   "cell_type": "markdown",
   "metadata": {
    "slideshow": {
     "slide_type": "slide"
    }
   },
   "source": [
    "# 2. Filter-Map-Reduce\n",
    "\n",
    "**Higher-order functions on sequences** <br/>\n",
    "<small class=\"hl\">_Sidenote:_ Using **comprehensions** could be a better option.</small>"
   ]
  },
  {
   "cell_type": "code",
   "execution_count": 5,
   "metadata": {
    "slideshow": {
     "slide_type": "-"
    }
   },
   "outputs": [
    {
     "name": "stdout",
     "output_type": "stream",
     "text": [
      "[17, 13, 11]\n",
      "[34, 8, 18, 26, 12, 22]\n",
      "['ab', 'pq', 'xy']\n",
      "525096\n"
     ]
    }
   ],
   "source": [
    "from functools import reduce\n",
    "\n",
    "values = [17, 4, 9, 13, 6, 11]\n",
    "\n",
    "# filter: List of values greater than 10\n",
    "print(list(filter(lambda x: x > 10, values)))\n",
    "\n",
    "# map: Double each value in the list\n",
    "print(list(map(lambda x: x * 2, values)))\n",
    "print(list(map(lambda x, y: x + y, 'apx', 'bqy')))\n",
    "\n",
    "# reduce: Find the product of all values\n",
    "print(reduce(lambda x, y: x * y, values))"
   ]
  },
  {
   "cell_type": "markdown",
   "metadata": {
    "slideshow": {
     "slide_type": "slide"
    }
   },
   "source": [
    "## 2A. Our implementation of `filter`"
   ]
  },
  {
   "cell_type": "code",
   "execution_count": 6,
   "metadata": {
    "slideshow": {
     "slide_type": "-"
    }
   },
   "outputs": [
    {
     "name": "stdout",
     "output_type": "stream",
     "text": [
      "[17, 13, 11]\n",
      "[1, True]\n"
     ]
    }
   ],
   "source": [
    "def my_filter(cond_function, iterable):\n",
    "    \"\"\"Implements built-in ``filter()`` function.\"\"\"\n",
    "    \n",
    "    if cond_function is None:\n",
    "        cond_function = lambda value: value\n",
    "    \n",
    "    for value in iterable:\n",
    "        if cond_function(value):\n",
    "            yield value\n",
    "            \n",
    "print(list(my_filter(lambda x: x > 10, [17, 4, 9, 13, 6, 11])))\n",
    "print(list(my_filter(None, [0, 1, True, False, None])))"
   ]
  },
  {
   "cell_type": "markdown",
   "metadata": {
    "slideshow": {
     "slide_type": "slide"
    }
   },
   "source": [
    "## 2B. Our implementation of `map` <small>(simplified)<small>"
   ]
  },
  {
   "cell_type": "code",
   "execution_count": 7,
   "metadata": {
    "slideshow": {
     "slide_type": "-"
    }
   },
   "outputs": [
    {
     "name": "stdout",
     "output_type": "stream",
     "text": [
      "[34, 8, 18, 26, 12, 22]\n"
     ]
    }
   ],
   "source": [
    "def my_simple_map(trans_function, iterable):\n",
    "    \"\"\"Implements built-in ``map()`` function accepting only one iterable.\"\"\"\n",
    "\n",
    "    for value in iterable:\n",
    "        yield trans_function(value)\n",
    "        \n",
    "print(list(my_simple_map(lambda x: x * 2, [17, 4, 9, 13, 6, 11])))"
   ]
  },
  {
   "cell_type": "markdown",
   "metadata": {
    "slideshow": {
     "slide_type": "slide"
    }
   },
   "source": [
    "## 2C. Our implementation of full-fledged `map`"
   ]
  },
  {
   "cell_type": "code",
   "execution_count": 3,
   "metadata": {
    "slideshow": {
     "slide_type": "-"
    }
   },
   "outputs": [
    {
     "name": "stdout",
     "output_type": "stream",
     "text": [
      "[20, 60, 120]\n",
      "[0, 3, 6, 9]\n"
     ]
    }
   ],
   "source": [
    "# def my_map(trans_function, (it1, it2, ...)):\n",
    "def my_map(trans_function, *iterables):\n",
    "    \"\"\"Implements built-in ``map()`` function.\"\"\"\n",
    "    \n",
    "    if not iterables:\n",
    "        raise TypeError(\"my_map() must have at least two arguments\")\n",
    "        \n",
    "    ## Convert iterables to iterators (required by 'next')\n",
    "    iterators = [iter(itb) for itb in iterables]\n",
    "    \n",
    "    try:\n",
    "        while True:\n",
    "            # values = [next(it) for it in iterators]\n",
    "            values = []\n",
    "            for it in iterators:\n",
    "                ## Raise StopIteration when iterator is consumed\n",
    "                values.append(next(it))  \n",
    "            # yield trans_function(values[0], values[1], ...)\n",
    "            yield trans_function(*values)\n",
    "    except StopIteration:\n",
    "        pass\n",
    "        \n",
    "print(list(my_map(lambda a, b: a * b, [10, 20, 30], [2, 3, 4])))\n",
    "print(list(my_map(lambda x, y, z: x + y + z, range(4), range(4), range(4))))"
   ]
  },
  {
   "cell_type": "markdown",
   "metadata": {
    "slideshow": {
     "slide_type": "slide"
    }
   },
   "source": [
    "## 2D. Our implementation of `functools.reduce`"
   ]
  },
  {
   "cell_type": "code",
   "execution_count": 10,
   "metadata": {
    "slideshow": {
     "slide_type": "-"
    }
   },
   "outputs": [
    {
     "name": "stdout",
     "output_type": "stream",
     "text": [
      "362880\n",
      "> Yes I can\n"
     ]
    }
   ],
   "source": [
    "class _MISSING:\n",
    "    pass\n",
    "\n",
    "def my_reduce(accm_function, iterable, start=_MISSING):\n",
    "    it = iter(iterable)\n",
    "    accm = next(it) if start is _MISSING else start\n",
    "    for value in it:\n",
    "        accm = accm_function(accm, value)\n",
    "    return accm\n",
    "\n",
    "print(my_reduce(lambda a, b: a * b, range(1,10)))\n",
    "print(my_reduce(lambda a, b: f\"{a} {b}\", [\"Yes\", \"I\", \"can\"], \">\"))"
   ]
  },
  {
   "cell_type": "markdown",
   "metadata": {
    "slideshow": {
     "slide_type": "slide"
    }
   },
   "source": [
    "# 3. Built-in `property` decorator function\n",
    "\n",
    "Making getter/setter methods inside class definition\n",
    "as if it is an instance property."
   ]
  },
  {
   "cell_type": "code",
   "execution_count": 12,
   "metadata": {
    "slideshow": {
     "slide_type": "-"
    }
   },
   "outputs": [],
   "source": [
    "class AspectRatioRectangle(object):\n",
    "    \"\"\"Rectaingle maintaining original ratio when resize.\"\"\"\n",
    "    \n",
    "    def __init__(self, width, height):\n",
    "        self.original_width = width\n",
    "        self.original_height = height\n",
    "        self.scale = 1\n",
    "        \n",
    "    @property\n",
    "    def width(self):\n",
    "        return self.original_width * self.scale\n",
    "    # width = property(width)\n",
    "    \n",
    "    @width.setter\n",
    "    def width(self, new_width):\n",
    "        self.scale = new_width / self.original_width\n",
    "    # width = property(width)\n",
    "    \n",
    "    @property\n",
    "    def height(self):\n",
    "        return self.original_height * self.scale\n",
    "    \n",
    "    @height.setter\n",
    "    def height(self, new_height):\n",
    "        self.scale = new_height / self.original_height\n",
    "        \n",
    "    def __repr__(self):\n",
    "        return f\"{type(self).__name__}({self.width}, {self.height})\"\n",
    "    \n",
    "rect = AspectRatioRectangle(3, 4)\n",
    "print(rect)\n",
    "rect.height = 10\n",
    "print(rect)\n",
    "rect.width = 6\n",
    "print(rect)"
   ]
  },
  {
   "cell_type": "code",
   "execution_count": 14,
   "metadata": {
    "slideshow": {
     "slide_type": "slide"
    }
   },
   "outputs": [],
   "source": [
    "class my_property(object):\n",
    "    \"\"\"\n",
    "    Implements built-in ``property`` decorator function.\n",
    "    Adapted from https://docs.python.org/3.6/howto/descriptor.html\n",
    "    \"\"\"\n",
    "    def __init__(self, getter_fn):\n",
    "        self.getter_fn = getter_fn\n",
    "        self.setter_fn = None\n",
    "        \n",
    "    def __get__(self, instance, cls=None):\n",
    "        if instance is None:\n",
    "            return self          \n",
    "        return self.getter_fn(instance)\n",
    "\n",
    "    def __set__(self, instance, value):\n",
    "        if self.setter_fn is None:\n",
    "            raise AttributeError(\"cannot modify attribute\")\n",
    "        self.setter_fn(instance, value)\n",
    "\n",
    "    def setter(self, setter_fn):\n",
    "        self.setter_fn = setter_fn\n",
    "        return self"
   ]
  },
  {
   "cell_type": "code",
   "execution_count": 15,
   "metadata": {
    "slideshow": {
     "slide_type": "subslide"
    }
   },
   "outputs": [],
   "source": [
    "class AspectRatioRectangle(object):\n",
    "    \n",
    "    def __init__(self, width, height):\n",
    "        self.original_width = width\n",
    "        self.original_height = height\n",
    "        self.scale = 1\n",
    "        \n",
    "    @my_property\n",
    "    def width(self):\n",
    "        return self.original_width * self.scale\n",
    "    \n",
    "    @width.setter\n",
    "    def width(self, new_width):\n",
    "        self.scale = new_width / self.original_width\n",
    "    \n",
    "    @my_property\n",
    "    def height(self):\n",
    "        return self.original_height * self.scale\n",
    "    \n",
    "    @height.setter\n",
    "    def height(self, new_height):\n",
    "        self.scale = new_height / self.original_height\n",
    "        \n",
    "    def __repr__(self):\n",
    "        return f\"{type(self).__name__}({self.width}, {self.height})\"\n",
    "    \n",
    "rect = AspectRatioRectangle(3, 4)\n",
    "print(rect)\n",
    "rect.height = 10\n",
    "print(rect)\n",
    "rect.width = 6\n",
    "print(rect)"
   ]
  },
  {
   "cell_type": "markdown",
   "metadata": {
    "slideshow": {
     "slide_type": "slide"
    }
   },
   "source": [
    "# 4. Partially supplied arguments with `functools.partial`"
   ]
  },
  {
   "cell_type": "code",
   "execution_count": 17,
   "metadata": {
    "slideshow": {
     "slide_type": "-"
    }
   },
   "outputs": [
    {
     "name": "stderr",
     "output_type": "stream",
     "text": [
      "[error] Hi!\n",
      "[error]_how_are_you\n"
     ]
    }
   ],
   "source": [
    "from functools import partial\n",
    "import sys\n",
    "\n",
    "print_error = partial(print, \"[error]\", file=sys.stderr)\n",
    "\n",
    "print_error(\"Hi!\")\n",
    "print_error(\"how\", \"are\", \"you\" ,sep=\"_\")"
   ]
  },
  {
   "cell_type": "code",
   "execution_count": 18,
   "metadata": {
    "slideshow": {
     "slide_type": "fragment"
    }
   },
   "outputs": [
    {
     "name": "stdout",
     "output_type": "stream",
     "text": [
      "<class 'functools.partial'>\n"
     ]
    }
   ],
   "source": [
    "print(repr(partial))"
   ]
  },
  {
   "cell_type": "markdown",
   "metadata": {
    "slideshow": {
     "slide_type": "slide"
    }
   },
   "source": [
    "### Our implementation of `functools.partial`"
   ]
  },
  {
   "cell_type": "code",
   "execution_count": 19,
   "metadata": {
    "slideshow": {
     "slide_type": "-"
    }
   },
   "outputs": [
    {
     "name": "stderr",
     "output_type": "stream",
     "text": [
      "[error] Hi!\n",
      "[error]_how_are_you\n"
     ]
    }
   ],
   "source": [
    "class my_partial(object):\n",
    "    \"\"\"Store function with partially pre-specified arguments.\"\"\"\n",
    "    \n",
    "    def __init__(self, original_func, *args, **kwargs):\n",
    "        self.original_func = original_func\n",
    "        self.args = args\n",
    "        self.kwargs = kwargs\n",
    "\n",
    "    def __call__(self, *extra_args, **extra_kwargs):\n",
    "        new_kwargs = self.kwargs.copy()\n",
    "        new_kwargs.update(extra_kwargs)\n",
    "        return self.original_func(*self.args, *extra_args, **new_kwargs)\n",
    "    \n",
    "    \n",
    "my_print_error = my_partial(print, \"[error]\", file=sys.stderr)\n",
    "\n",
    "my_print_error(\"Hi!\")\n",
    "my_print_error(\"how\", \"are\", \"you\" ,sep=\"_\")"
   ]
  },
  {
   "cell_type": "markdown",
   "metadata": {
    "slideshow": {
     "slide_type": "slide"
    }
   },
   "source": [
    "# 5. `dataclass` (since Python 3.7)\n",
    "\n",
    "## Before:"
   ]
  },
  {
   "cell_type": "code",
   "execution_count": 20,
   "metadata": {
    "slideshow": {
     "slide_type": "-"
    }
   },
   "outputs": [
    {
     "name": "stdout",
     "output_type": "stream",
     "text": [
      "Rectangle(width=1920, height=1080) 1920 1080\n",
      "Rectangle(width=2520, height=1080) 2520 1080\n"
     ]
    }
   ],
   "source": [
    "class Rectangle(object):\n",
    "    def __init__(self, width, height):\n",
    "        self.width = width\n",
    "        self.height = height\n",
    "    def __repr__(self):\n",
    "        clsname = type(self).__name__\n",
    "        return f\"{clsname}(width={self.width}, height={self.height})\"\n",
    "        \n",
    "rect = Rectangle(1920, 1080)\n",
    "print(rect, rect.width, rect.height)\n",
    "rect.width = 2520\n",
    "print(rect, rect.width, rect.height)"
   ]
  },
  {
   "cell_type": "code",
   "execution_count": 21,
   "metadata": {
    "slideshow": {
     "slide_type": "subslide"
    }
   },
   "outputs": [
    {
     "name": "stdout",
     "output_type": "stream",
     "text": [
      "Rectangle(width=1920, height=1080) 1920 1080\n",
      "Rectangle(width=2520, height=1080) 2520 1080\n"
     ]
    }
   ],
   "source": [
    "from dataclasses import dataclass\n",
    "\n",
    "@dataclass\n",
    "class Rectangle(object):\n",
    "    width: int\n",
    "    height: int\n",
    "        \n",
    "rect = Rectangle(1920, 1080)\n",
    "print(rect, rect.width, rect.height)\n",
    "rect.width = 2520\n",
    "print(rect, rect.width, rect.height)"
   ]
  },
  {
   "cell_type": "code",
   "execution_count": 22,
   "metadata": {
    "slideshow": {
     "slide_type": "slide"
    }
   },
   "outputs": [
    {
     "name": "stdout",
     "output_type": "stream",
     "text": [
      "{'width': <class 'int'>, 'height': <class 'int'>}\n"
     ]
    }
   ],
   "source": [
    "class Rectangle(object):\n",
    "    width: int\n",
    "    height: int\n",
    "        \n",
    "print(Rectangle.__annotations__)"
   ]
  },
  {
   "cell_type": "markdown",
   "metadata": {
    "slideshow": {
     "slide_type": "slide"
    }
   },
   "source": [
    "## Our implementation with monkey-patching <small>(simplified)<small>"
   ]
  },
  {
   "cell_type": "code",
   "execution_count": 23,
   "metadata": {
    "slideshow": {
     "slide_type": "-"
    }
   },
   "outputs": [],
   "source": [
    "def my_dataclass(cls):\n",
    "    attributes = tuple(cls.__annotations__.keys())\n",
    "    \n",
    "    # Create new '__init__' function\n",
    "    def _init_func(self, *values):\n",
    "        if len(attributes) != len(values):\n",
    "            raise TypeError('incorrect number of arguments')\n",
    "        for attr, val in zip(attributes, values):\n",
    "            setattr(self, attr, val)  # self.attr = val\n",
    "            \n",
    "    # Create new '__repr__' function\n",
    "    def _repr_func(self):\n",
    "        data = \", \".join(f\"{attr}={repr(getattr(self, attr))}\"\n",
    "                         for attr in attributes)\n",
    "        return f\"{type(self).__name__}({data})\"\n",
    "    \n",
    "    clsdict = dict(cls.__dict__)\n",
    "    clsdict['__init__'] = _init_func\n",
    "    clsdict['__repr__'] = _repr_func\n",
    "    return type(cls.__name__, cls.__bases__, clsdict)"
   ]
  },
  {
   "cell_type": "code",
   "execution_count": 24,
   "metadata": {
    "slideshow": {
     "slide_type": "subslide"
    }
   },
   "outputs": [
    {
     "name": "stdout",
     "output_type": "stream",
     "text": [
      "Rectangle(width=1920, height=1080) 1920 1080\n",
      "Rectangle(width=2520, height=1080) 2520 1080\n"
     ]
    }
   ],
   "source": [
    "@my_dataclass\n",
    "class Rectangle(object):\n",
    "    width: int\n",
    "    height: int\n",
    "        \n",
    "rect = Rectangle(1920, 1080)\n",
    "print(rect, rect.width, rect.height)\n",
    "rect.width = 2520\n",
    "print(rect, rect.width, rect.height)"
   ]
  },
  {
   "cell_type": "markdown",
   "metadata": {
    "slideshow": {
     "slide_type": "slide"
    }
   },
   "source": [
    "## Tangent: very similar to `collections.namedtuple`\n",
    "\n",
    "Just plain old immutable version of `dataclasses.dataclass`"
   ]
  },
  {
   "cell_type": "code",
   "execution_count": 25,
   "metadata": {
    "scrolled": true,
    "slideshow": {
     "slide_type": "-"
    }
   },
   "outputs": [
    {
     "name": "stdout",
     "output_type": "stream",
     "text": [
      "10 / 3 → DivisionResult(quotient=3, remainder=1)\n",
      "18 / 4 → q = 4, r = 2\n"
     ]
    }
   ],
   "source": [
    "from collections import namedtuple\n",
    "DivisionResult = namedtuple('DivisionResult', 'quotient remainder')\n",
    "\n",
    "def div_with_remainder(a, b):  # built-in divmod\n",
    "    return DivisionResult(a // b, a % b)\n",
    "\n",
    "print(\"10 / 3 →\", div_with_remainder(10, 3))\n",
    "q, r = div_with_remainder(18, 4)\n",
    "print(\"18 / 4 →\", f\"q = {q}, r = {r}\")"
   ]
  },
  {
   "cell_type": "markdown",
   "metadata": {
    "slideshow": {
     "slide_type": "slide"
    }
   },
   "source": [
    "### Our attempt to implement `collections.namedtuple`"
   ]
  },
  {
   "cell_type": "code",
   "execution_count": 26,
   "metadata": {
    "slideshow": {
     "slide_type": "-"
    }
   },
   "outputs": [],
   "source": [
    "def my_namedtuple(clsname, attributes):\n",
    "    if isinstance(attributes, str):\n",
    "        attributes = attributes.replace(',', ' ').split()\n",
    "    if not all(attr.isidentifier() for attr in attributes):\n",
    "        raise ValueError('invalid attributes')\n",
    "        \n",
    "    def _new_func(cls, *values):\n",
    "        return tuple.__new__(cls, values)\n",
    "    def _getattr_func(self, attr):\n",
    "        return self[attributes.index(attr)]\n",
    "    def _repr_func(self):\n",
    "        data = \", \".join(f\"{attr}={getattr(self, attr)}\"\n",
    "                         for attr in attributes)\n",
    "        return f\"{type(self).__name__}({data})\"\n",
    "    \n",
    "    clsdict = {'__new__': _new_func,\n",
    "               '__getattr__': _getattr_func,\n",
    "               '__repr__': _repr_func}\n",
    "    return type(clsname, (tuple,), clsdict)"
   ]
  },
  {
   "cell_type": "code",
   "execution_count": 27,
   "metadata": {
    "slideshow": {
     "slide_type": "subslide"
    }
   },
   "outputs": [
    {
     "name": "stdout",
     "output_type": "stream",
     "text": [
      "p = Point(x=1, y=2)\n",
      "p.x = 1, p.y = 2\n",
      "x = 1, y = 2\n"
     ]
    }
   ],
   "source": [
    "Point = my_namedtuple('Point', 'x y')\n",
    "p = Point(1, 2)\n",
    "print(f\"p = {p}\")\n",
    "print(f\"p.x = {p.x}, p.y = {p.y}\")\n",
    "x, y = p\n",
    "print(f\"x = {x}, y = {y}\")"
   ]
  },
  {
   "cell_type": "markdown",
   "metadata": {
    "slideshow": {
     "slide_type": "slide"
    }
   },
   "source": [
    "### How it is actually implemented?\n",
    "\n",
    "<i class=\"fa fa-github-alt\"></i> &nbsp; <small>https://github.com/python/cpython/blob/2a0f7c34c386dc80519da6c3fb150f081943f204/Lib/collections/__init__.py#L302</small>"
   ]
  },
  {
   "cell_type": "code",
   "execution_count": 28,
   "metadata": {
    "slideshow": {
     "slide_type": "fragment"
    }
   },
   "outputs": [],
   "source": [
    "################################################################################\n",
    "### namedtuple\n",
    "################################################################################\n",
    "\n",
    "_class_template = \"\"\"\\\n",
    "from builtins import property as _property, tuple as _tuple\n",
    "from operator import itemgetter as _itemgetter\n",
    "from collections import OrderedDict\n",
    "class {typename}(tuple):\n",
    "    '{typename}({arg_list})'\n",
    "    __slots__ = ()\n",
    "    _fields = {field_names!r}\n",
    "    def __new__(_cls, {arg_list}):\n",
    "        'Create new instance of {typename}({arg_list})'\n",
    "        return _tuple.__new__(_cls, ({arg_list}))\n",
    "    @classmethod\n",
    "    def _make(cls, iterable, new=tuple.__new__, len=len):\n",
    "        'Make a new {typename} object from a sequence or iterable'\n",
    "        result = new(cls, iterable)\n",
    "        if len(result) != {num_fields:d}:\n",
    "            raise TypeError('Expected {num_fields:d} arguments, got %d' % len(result))\n",
    "        return result\n",
    "    def _replace(_self, **kwds):\n",
    "        'Return a new {typename} object replacing specified fields with new values'\n",
    "        result = _self._make(map(kwds.pop, {field_names!r}, _self))\n",
    "        if kwds:\n",
    "            raise ValueError('Got unexpected field names: %r' % list(kwds))\n",
    "        return result\n",
    "    def __repr__(self):\n",
    "        'Return a nicely formatted representation string'\n",
    "        return self.__class__.__name__ + '({repr_fmt})' % self\n",
    "    def _asdict(self):\n",
    "        'Return a new OrderedDict which maps field names to their values.'\n",
    "        return OrderedDict(zip(self._fields, self))\n",
    "    def __getnewargs__(self):\n",
    "        'Return self as a plain tuple.  Used by copy and pickle.'\n",
    "        return tuple(self)\n",
    "{field_defs}\n",
    "\"\"\"\n",
    "\n",
    "_repr_template = '{name}=%r'\n",
    "\n",
    "_field_template = '''\\\n",
    "    {name} = _property(_itemgetter({index:d}), doc='Alias for field number {index:d}')\n",
    "'''"
   ]
  },
  {
   "cell_type": "code",
   "execution_count": 29,
   "metadata": {
    "slideshow": {
     "slide_type": "subslide"
    }
   },
   "outputs": [],
   "source": [
    "def namedtuple(typename, field_names, *, verbose=False, rename=False, module=None): \n",
    "    # Validate the field names.  At the user's option, either generate an error\n",
    "    # message or automatically replace the field name with a valid name.\n",
    "    if isinstance(field_names, str):\n",
    "        field_names = field_names.replace(',', ' ').split()\n",
    "    field_names = list(map(str, field_names))\n",
    "    typename = str(typename)\n",
    "    if rename:\n",
    "        seen = set()\n",
    "        for index, name in enumerate(field_names):\n",
    "            if (not name.isidentifier()\n",
    "                or _iskeyword(name)\n",
    "                or name.startswith('_')\n",
    "                or name in seen):\n",
    "                field_names[index] = '_%d' % index\n",
    "            seen.add(name)\n",
    "    for name in [typename] + field_names:\n",
    "        if type(name) is not str:\n",
    "            raise TypeError('Type names and field names must be strings')\n",
    "        if not name.isidentifier():\n",
    "            raise ValueError('Type names and field names must be valid '\n",
    "                             'identifiers: %r' % name)\n",
    "        if _iskeyword(name):\n",
    "            raise ValueError('Type names and field names cannot be a '\n",
    "                             'keyword: %r' % name)\n",
    "    seen = set()\n",
    "    for name in field_names:\n",
    "        if name.startswith('_') and not rename:\n",
    "            raise ValueError('Field names cannot start with an underscore: '\n",
    "                             '%r' % name)\n",
    "        if name in seen:\n",
    "            raise ValueError('Encountered duplicate field name: %r' % name)\n",
    "        seen.add(name)\n",
    "\n",
    "    # Fill-in the class template\n",
    "    class_definition = _class_template.format(\n",
    "        typename = typename,\n",
    "        field_names = tuple(field_names),\n",
    "        num_fields = len(field_names),\n",
    "        arg_list = repr(tuple(field_names)).replace(\"'\", \"\")[1:-1],\n",
    "        repr_fmt = ', '.join(_repr_template.format(name=name)\n",
    "                             for name in field_names),\n",
    "        field_defs = '\\n'.join(_field_template.format(index=index, name=name)\n",
    "                               for index, name in enumerate(field_names))\n",
    "    )\n",
    "\n",
    "    # Execute the template string in a temporary namespace and support\n",
    "    # tracing utilities by setting a value for frame.f_globals['__name__']\n",
    "    namespace = dict(__name__='namedtuple_%s' % typename)\n",
    "    exec(class_definition, namespace)\n",
    "    result = namespace[typename]\n",
    "    result._source = class_definition\n",
    "    if verbose:\n",
    "        print(result._source)\n",
    "\n",
    "    # For pickling to work, the __module__ variable needs to be set to the frame\n",
    "    # where the named tuple is created.  Bypass this step in environments where\n",
    "    # sys._getframe is not defined (Jython for example) or sys._getframe is not\n",
    "    # defined for arguments greater than 0 (IronPython), or where the user has\n",
    "    # specified a particular module.\n",
    "    if module is None:\n",
    "        try:\n",
    "            module = _sys._getframe(1).f_globals.get('__name__', '__main__')\n",
    "        except (AttributeError, ValueError):\n",
    "            pass\n",
    "    if module is not None:\n",
    "        result.__module__ = module\n",
    "\n",
    "    return result\n"
   ]
  },
  {
   "cell_type": "markdown",
   "metadata": {
    "slideshow": {
     "slide_type": "slide"
    }
   },
   "source": [
    "\n",
    "<div class=\"center\">\n",
    "    <h1>Q &amp; A</h1>\n",
    "</div>"
   ]
  }
 ],
 "metadata": {
  "celltoolbar": "Slideshow",
  "kernelspec": {
   "display_name": "Python 3",
   "language": "python",
   "name": "python3"
  },
  "language_info": {
   "codemirror_mode": {
    "name": "ipython",
    "version": 3
   },
   "file_extension": ".py",
   "mimetype": "text/x-python",
   "name": "python",
   "nbconvert_exporter": "python",
   "pygments_lexer": "ipython3",
   "version": "3.7.0rc1"
  },
  "rise": {
   "scroll": true,
   "theme": "black"
  }
 },
 "nbformat": 4,
 "nbformat_minor": 2
}

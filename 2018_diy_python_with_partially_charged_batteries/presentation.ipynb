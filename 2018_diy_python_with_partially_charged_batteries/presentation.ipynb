{
 "cells": [
  {
   "cell_type": "markdown",
   "metadata": {
    "slideshow": {
     "slide_type": "skip"
    }
   },
   "source": [
    "- built-in range function\n",
    "- property decorator\n",
    "- namedtuple class constructor\n",
    "- Enum class (since Python 3.4)\n",
    "- dataclass (since Python 3.7)\n",
    "- etc."
   ]
  },
  {
   "cell_type": "markdown",
   "metadata": {
    "slideshow": {
     "slide_type": "slide"
    }
   },
   "source": [
    "# Built-in `range` function"
   ]
  },
  {
   "cell_type": "code",
   "execution_count": 1,
   "metadata": {
    "slideshow": {
     "slide_type": "-"
    }
   },
   "outputs": [
    {
     "name": "stdout",
     "output_type": "stream",
     "text": [
      "[0, 1, 2, 3, 4, 5, 6, 7, 8, 9]\n",
      "[2, 5, 8]\n",
      "[5, 3, 1]\n",
      "[]\n"
     ]
    }
   ],
   "source": [
    "print(list(range(10)))\n",
    "print(list(range(2, 10, 3)))\n",
    "print(list(range(5, 0, -2)))\n",
    "print(list(range(4, 1)))"
   ]
  },
  {
   "cell_type": "code",
   "execution_count": 2,
   "metadata": {
    "slideshow": {
     "slide_type": "slide"
    }
   },
   "outputs": [],
   "source": [
    "def my_range(start, stop=None, step=1):\n",
    "    \"\"\"Implements built-in ``range()`` function.\"\"\"\n",
    "    \n",
    "    if not isinstance(step, int):\n",
    "        raise TypeError('step must be integer')\n",
    "    if step == 0:\n",
    "        raise ValueError('step cannot be zero')\n",
    "    \n",
    "    if stop is None:  # built-in syntax special case\n",
    "        stop = start; start = 0    \n",
    "    curr = start\n",
    "    \n",
    "    while (curr < stop) if (step > 0) else (curr > stop):\n",
    "        yield curr\n",
    "        curr += step\n"
   ]
  },
  {
   "cell_type": "code",
   "execution_count": 3,
   "metadata": {
    "slideshow": {
     "slide_type": "-"
    }
   },
   "outputs": [
    {
     "name": "stdout",
     "output_type": "stream",
     "text": [
      "[0, 1, 2, 3, 4, 5, 6, 7, 8, 9]\n",
      "[2, 5, 8]\n",
      "[5, 3, 1]\n",
      "[]\n"
     ]
    }
   ],
   "source": [
    "print(list(my_range(10)))\n",
    "print(list(my_range(2, 10, 3)))\n",
    "print(list(my_range(5, 0, -2)))\n",
    "print(list(my_range(4, 1)))"
   ]
  },
  {
   "cell_type": "markdown",
   "metadata": {
    "slideshow": {
     "slide_type": "skip"
    }
   },
   "source": [
    "# A Note About Descriptors"
   ]
  },
  {
   "cell_type": "code",
   "execution_count": 4,
   "metadata": {
    "slideshow": {
     "slide_type": "skip"
    }
   },
   "outputs": [],
   "source": [
    "class PositiveNumber(object):\n",
    "    \n",
    "    def __init__(self, default=1):\n",
    "        self.default = default\n",
    "    \n",
    "    def __set_name__(self, cls, name):\n",
    "        self.attribute_name = name\n",
    "        self.binding_cls = cls\n",
    "    \n",
    "    def __get__(self, instance, cls=None):\n",
    "        if instance is None:\n",
    "            return self\n",
    "        return instance.__dict__[self.attribute_name]\n",
    "\n",
    "    def __set__(self, instance, value):\n",
    "        if value <= 0:\n",
    "            raise ValueError('number must be positive')\n",
    "        instance.__dict__[self.attribute_name] = value"
   ]
  },
  {
   "cell_type": "code",
   "execution_count": 5,
   "metadata": {
    "scrolled": true,
    "slideshow": {
     "slide_type": "skip"
    }
   },
   "outputs": [
    {
     "name": "stdout",
     "output_type": "stream",
     "text": [
      "1\n",
      "10\n"
     ]
    }
   ],
   "source": [
    "class Person(object):\n",
    "    name: str\n",
    "    age: int = PositiveNumber()\n",
    "        \n",
    "    def __init__(self, name, age=1):\n",
    "        self.name = name\n",
    "        self.age = age\n",
    "        \n",
    "alice = Person(\"Alice\")\n",
    "print(alice.age)\n",
    "alice.age = 10\n",
    "print(alice.age)\n",
    "#alice.age = -10"
   ]
  },
  {
   "cell_type": "markdown",
   "metadata": {
    "slideshow": {
     "slide_type": "slide"
    }
   },
   "source": [
    "# Built-in `property` decorator function"
   ]
  },
  {
   "cell_type": "code",
   "execution_count": 6,
   "metadata": {
    "slideshow": {
     "slide_type": "-"
    }
   },
   "outputs": [],
   "source": [
    "class AspectRatioRectangle(object):\n",
    "    \"\"\"\n",
    "    Rectangle object maintaining the original\n",
    "    aspect ratio when resizing width or height.\n",
    "    \"\"\"\n",
    "    \n",
    "    def __init__(self, width, height):\n",
    "        self.original_width = width\n",
    "        self.original_height = height\n",
    "        self.scale = 1\n",
    "        \n",
    "    @property\n",
    "    def width(self):\n",
    "        return self.original_width * self.scale\n",
    "    \n",
    "    @width.setter\n",
    "    def width(self, new_width):\n",
    "        self.scale = new_width / self.original_width\n",
    "    \n",
    "    @property\n",
    "    def height(self):\n",
    "        return self.original_height * self.scale\n",
    "    \n",
    "    @height.setter\n",
    "    def height(self, new_height):\n",
    "        self.scale = new_height / self.original_height\n",
    "        \n",
    "    def __repr__(self):\n",
    "        return f\"{type(self).__name__}({self.width}, {self.height})\""
   ]
  },
  {
   "cell_type": "code",
   "execution_count": 7,
   "metadata": {
    "slideshow": {
     "slide_type": "slide"
    }
   },
   "outputs": [
    {
     "name": "stdout",
     "output_type": "stream",
     "text": [
      "AspectRatioRectangle(3, 4)\n",
      "AspectRatioRectangle(7.5, 10.0)\n",
      "AspectRatioRectangle(6.0, 8.0)\n"
     ]
    }
   ],
   "source": [
    "rect = AspectRatioRectangle(3, 4)\n",
    "print(rect)\n",
    "rect.height = 10\n",
    "print(rect)\n",
    "rect.width = 6\n",
    "print(rect)"
   ]
  },
  {
   "cell_type": "code",
   "execution_count": 8,
   "metadata": {
    "slideshow": {
     "slide_type": "slide"
    }
   },
   "outputs": [],
   "source": [
    "class my_property(object):\n",
    "    \"\"\"\n",
    "    Implements built-in ``property`` decorator function.\n",
    "    Adapted from https://docs.python.org/3.6/howto/descriptor.html\n",
    "    \"\"\"\n",
    "    def __init__(self, getter_fn):\n",
    "        self.getter_fn = getter_fn\n",
    "        self.setter_fn = None\n",
    "        \n",
    "    def __get__(self, instance, cls=None):\n",
    "        if instance is None:\n",
    "            return self          \n",
    "        return self.getter_fn(instance)\n",
    "\n",
    "    def __set__(self, instance, value):\n",
    "        if self.setter_fn is None:\n",
    "            raise AttributeError(\"cannot modify attribute\")\n",
    "        self.setter_fn(instance, value)\n",
    "\n",
    "    def setter(self, setter_fn):\n",
    "        self.setter_fn = setter_fn\n",
    "        return self"
   ]
  },
  {
   "cell_type": "code",
   "execution_count": 9,
   "metadata": {
    "slideshow": {
     "slide_type": "slide"
    }
   },
   "outputs": [],
   "source": [
    "class AspectRatioRectangle(object):\n",
    "    \n",
    "    def __init__(self, width, height):\n",
    "        self.original_width = width\n",
    "        self.original_height = height\n",
    "        self.scale = 1\n",
    "        \n",
    "    @my_property\n",
    "    def width(self):\n",
    "        return self.original_width * self.scale\n",
    "    \n",
    "    @width.setter\n",
    "    def width(self, new_width):\n",
    "        self.scale = new_width / self.original_width\n",
    "    \n",
    "    @my_property\n",
    "    def height(self):\n",
    "        return self.original_height * self.scale\n",
    "    \n",
    "    @height.setter\n",
    "    def height(self, new_height):\n",
    "        self.scale = new_height / self.original_height\n",
    "        \n",
    "    def __repr__(self):\n",
    "        return f\"{type(self).__name__}({self.width}, {self.height})\""
   ]
  },
  {
   "cell_type": "code",
   "execution_count": 10,
   "metadata": {
    "slideshow": {
     "slide_type": "slide"
    }
   },
   "outputs": [
    {
     "name": "stdout",
     "output_type": "stream",
     "text": [
      "AspectRatioRectangle(3, 4)\n",
      "AspectRatioRectangle(7.5, 10.0)\n",
      "AspectRatioRectangle(6.0, 8.0)\n"
     ]
    }
   ],
   "source": [
    "rect = AspectRatioRectangle(3, 4)\n",
    "print(rect)\n",
    "rect.height = 10\n",
    "print(rect)\n",
    "rect.width = 6\n",
    "print(rect)"
   ]
  },
  {
   "cell_type": "code",
   "execution_count": null,
   "metadata": {},
   "outputs": [],
   "source": []
  }
 ],
 "metadata": {
  "celltoolbar": "Slideshow",
  "kernelspec": {
   "display_name": "Python 3",
   "language": "python",
   "name": "python3"
  },
  "language_info": {
   "codemirror_mode": {
    "name": "ipython",
    "version": 3
   },
   "file_extension": ".py",
   "mimetype": "text/x-python",
   "name": "python",
   "nbconvert_exporter": "python",
   "pygments_lexer": "ipython3",
   "version": "3.6.5"
  },
  "rise": {
   "scroll": true,
   "theme": "black"
  }
 },
 "nbformat": 4,
 "nbformat_minor": 2
}
